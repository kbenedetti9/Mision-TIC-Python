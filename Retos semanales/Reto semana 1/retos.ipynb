{
  "nbformat": 4,
  "nbformat_minor": 0,
  "metadata": {
    "kernelspec": {
      "display_name": "Python 3",
      "language": "python",
      "name": "python3"
    },
    "language_info": {
      "codemirror_mode": {
        "name": "ipython",
        "version": 3
      },
      "file_extension": ".py",
      "mimetype": "text/x-python",
      "name": "python",
      "nbconvert_exporter": "python",
      "pygments_lexer": "ipython3",
      "version": "3.7.6"
    },
    "colab": {
      "name": "reto_semana_1.ipynb",
      "provenance": []
    }
  },
  "cells": [
    {
      "cell_type": "markdown",
      "metadata": {
        "id": "P6su_6Am5Nl5"
      },
      "source": [
        "## Reto de la semana \n",
        "\n",
        "Es tiempo de medir tus habilidades. La solución para tu cliente, Transportes del Norte, requiere de la construcción de una interfaz mediante la que el usuario ha de interactuar (interfaz humano-máquina). Iniciemos entonces con la construcción de un pequeño Menú de selección, que ofrezca las siguientes opciones:\n",
        "\n",
        "1.  Leer un número de 4 dígitos, mostrar el dígito mayor e informar si es par o impar.\n",
        "2.  Leer dos números de 3 dígitos cada uno, formar un tercer número con el mayor del primero y el menor del segundo.\n",
        "3.  Leer un número de 3 dígitos y formar el mayor número posible con sus cifras.\n",
        "4. Salir\n"
      ]
    },
    {
      "cell_type": "code",
      "metadata": {
        "id": "5obEJBNp5Nl-",
        "outputId": "0c784dc2-c686-4d89-fedb-c55e85f7279b",
        "colab": {
          "base_uri": "https://localhost:8080/",
          "height": 35
        }
      },
      "source": [
        "def menu(option,num1,num2):\n",
        "   opciones = {\n",
        "       1: op1(num1),\n",
        "       2: op2(num1,num2),\n",
        "       3: op3(num1),\n",
        "       4: op4()\n",
        "   }\n",
        "\n",
        "   resultado = opciones.get(option)\n",
        "   return resultado\n",
        "\n",
        "def op1(num1):\n",
        "  numero = str(num1)\n",
        "  cantidad= len(numero)    \n",
        "  if cantidad == 4:\n",
        "    if numero[0] >= numero[1] and numero[0] >= numero[2] and numero[0] >= numero[3]:\n",
        "        mayor = numero[0]\n",
        "    elif numero[1] >= numero[0] and numero[1] >= numero[2] and numero[1] >= numero[3]:\n",
        "        mayor = numero[1]\n",
        "    elif numero[2] >= numero[0] and numero[2] >= numero[1] and numero[2] >= numero[3]:\n",
        "        mayor = numero[2]\n",
        "    else:\n",
        "        mayor = numero[3]\n",
        "  else:\n",
        "    return(\"numero incorrecto\")\n",
        "  numResult = int(mayor)     \n",
        "  if numResult % 2 == 0:\n",
        "    return (numResult,\"par\")\n",
        "  else:\n",
        "    return (numResult,\"impar\")    \n",
        "\n",
        "def op2(num1, num2): \n",
        "  numero1 = str(num1)\n",
        "  cantidad1= len(numero1)\n",
        "  numero2 = str(num2)\n",
        "  cantidad2 = len(numero2)\n",
        "  if cantidad1 == 3 and cantidad2 == 3:\n",
        "    if numero1[0] >= numero1[1] and numero1[0] >= numero1[2]:\n",
        "      mayor = numero1[0]\n",
        "    elif numero1[1] >= numero1[0] and numero1[1] >= numero1[2]:\n",
        "      mayor = numero1[1]  \n",
        "    else:\n",
        "      mayor = numero1[2]   \n",
        "\n",
        "    if numero2[0] <= numero2[1] and numero2[0] <= numero2[2]:\n",
        "      menor = numero2[0] \n",
        "    elif numero2[1] <= numero2[0] and numero2[1] <= numero2[2]:\n",
        "      menor = numero2[1]\n",
        "    else:\n",
        "      menor = numero2[2]  \n",
        "    nuevoNum = mayor + menor\n",
        "    result = int(nuevoNum)\n",
        "    return result\n",
        "  else:\n",
        "    return (\"numeros incorrectos\")\n",
        "\n",
        "def op3(num1):\n",
        "  numero = str(num1)\n",
        "  cantidad= len(numero)\n",
        "  if cantidad == 3:\n",
        "    numeros = [int(numero[0]), int(numero[1]), int(numero[2])]\n",
        "    numOrdenado = sorted(numeros, reverse= True)\n",
        "    numNuevo = \"{0}{1}{2}\".format(numOrdenado[0],numOrdenado[1],numOrdenado[2])\n",
        "    result = int(numNuevo)\n",
        "    return result\n",
        "  else:  \n",
        "    return (\"numeros incorrectos\")\n",
        "\n",
        "def op4():\n",
        "    \n",
        "  return (\"salir\")\n",
        "    \n",
        "\n",
        "menu(4,58,35)\n"
      ],
      "execution_count": 20,
      "outputs": [
        {
          "output_type": "execute_result",
          "data": {
            "application/vnd.google.colaboratory.intrinsic+json": {
              "type": "string"
            },
            "text/plain": [
              "'salir'"
            ]
          },
          "metadata": {
            "tags": []
          },
          "execution_count": 20
        }
      ]
    },
    {
      "cell_type": "markdown",
      "metadata": {
        "id": "8c4V2wJ45NmP"
      },
      "source": [
        "### EJEMPLO: \n",
        "La función menu(option, num1 , num2), recibe 3 parametros:  el primer parametro determina la opción del menú, el segundo el número 1 (num1) usado para las opciones 1 (op1) y 3 (op3), el tercero es el número 2 (num2) usado para la opción 2 (op2) que pide 2 números.  \n",
        "\n",
        "Para este caso, la salida del algoritmo si usamos la función menu(1,2345,0), es la siguiente: "
      ]
    },
    {
      "cell_type": "code",
      "metadata": {
        "id": "ICm6Oexo5NmR",
        "outputId": "f3604b9e-4279-4700-e8ef-795ea7cf13f9",
        "colab": {
          "base_uri": "https://localhost:8080/",
          "height": 35
        }
      },
      "source": [
        "def menu(option,num1,num2):\n",
        "   opciones = {\n",
        "       1: op1(num1),\n",
        "       2: op2(num1,num2),\n",
        "       3: op3(num1),\n",
        "       4: op4()\n",
        "   }\n",
        "\n",
        "   resultado = opciones.get(option)\n",
        "   return resultado\n",
        "\n",
        "def op1(num1):\n",
        "  numero = str(num1)\n",
        "  cantidad= len(numero)    \n",
        "  if cantidad == 4:\n",
        "    if numero[0] >= numero[1] and numero[0] >= numero[2] and numero[0] >= numero[3]:\n",
        "        mayor = numero[0]\n",
        "    elif numero[1] >= numero[0] and numero[1] >= numero[2] and numero[1] >= numero[3]:\n",
        "        mayor = numero[1]\n",
        "    elif numero[2] >= numero[0] and numero[2] >= numero[1] and numero[2] >= numero[3]:\n",
        "        mayor = numero[2]\n",
        "    else:\n",
        "        mayor = numero[3]\n",
        "  else:\n",
        "    return(\"numero incorrecto\")\n",
        "  numResult = int(mayor)     \n",
        "  if numResult % 2 == 0:\n",
        "    return (numResult,\"par\")\n",
        "  else:\n",
        "    return (numResult,\"impar\")    \n",
        "\n",
        "def op2(num1, num2): \n",
        "  numero1 = str(num1)\n",
        "  cantidad1= len(numero1)\n",
        "  numero2 = str(num2)\n",
        "  cantidad2 = len(numero2)\n",
        "  if cantidad1 == 3 and cantidad2 == 3:\n",
        "    if numero1[0] >= numero1[1] and numero1[0] >= numero1[2]:\n",
        "      mayor = numero1[0]\n",
        "    elif numero1[1] >= numero1[0] and numero1[1] >= numero1[2]:\n",
        "      mayor = numero1[1]  \n",
        "    else:\n",
        "      mayor = numero1[2]   \n",
        "\n",
        "    if numero2[0] <= numero2[1] and numero2[0] <= numero2[2]:\n",
        "      menor = numero2[0] \n",
        "    elif numero2[1] <= numero2[0] and numero2[1] <= numero2[2]:\n",
        "      menor = numero2[1]\n",
        "    else:\n",
        "      menor = numero2[2]  \n",
        "    nuevoNum = mayor + menor\n",
        "    result = int(nuevoNum)\n",
        "    return result\n",
        "  else:\n",
        "    return (\"numeros incorrectos\")\n",
        "\n",
        "def op3(num1):\n",
        "  numero = str(num1)\n",
        "  cantidad= len(numero)\n",
        "  if cantidad == 3:\n",
        "    numeros = [int(numero[0]), int(numero[1]), int(numero[2])]\n",
        "    numOrdenado = sorted(numeros, reverse= True)\n",
        "    numNuevo = \"{0}{1}{2}\".format(numOrdenado[0],numOrdenado[1],numOrdenado[2])\n",
        "    result = int(numNuevo)\n",
        "    return result\n",
        "  else:  \n",
        "    return (\"numeros incorrectos\")\n",
        "\n",
        "def op4():\n",
        "    \n",
        "  return (\"salir\")\n",
        "    \n",
        "\n",
        "menu(4,2345,0) #Menu recibe como entrada; (opción = puede ser del 1 al 4 , numero 1, numero 2)\n"
      ],
      "execution_count": 15,
      "outputs": [
        {
          "output_type": "execute_result",
          "data": {
            "application/vnd.google.colaboratory.intrinsic+json": {
              "type": "string"
            },
            "text/plain": [
              "'salir'"
            ]
          },
          "metadata": {
            "tags": []
          },
          "execution_count": 15
        }
      ]
    },
    {
      "cell_type": "code",
      "metadata": {
        "id": "GhCz-glL5Nmg"
      },
      "source": [
        ""
      ],
      "execution_count": null,
      "outputs": []
    }
  ]
}