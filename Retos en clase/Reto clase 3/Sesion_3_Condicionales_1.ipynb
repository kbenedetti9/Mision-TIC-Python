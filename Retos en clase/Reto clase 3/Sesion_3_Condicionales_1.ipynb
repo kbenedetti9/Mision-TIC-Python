{
  "nbformat": 4,
  "nbformat_minor": 0,
  "metadata": {
    "kernelspec": {
      "display_name": "Python 3",
      "language": "python",
      "name": "python3"
    },
    "language_info": {
      "codemirror_mode": {
        "name": "ipython",
        "version": 3
      },
      "file_extension": ".py",
      "mimetype": "text/x-python",
      "name": "python",
      "nbconvert_exporter": "python",
      "pygments_lexer": "ipython3",
      "version": "3.8.3"
    },
    "colab": {
      "name": "Sesion_3_Condicionales_1.ipynb",
      "provenance": []
    }
  },
  "cells": [
    {
      "cell_type": "markdown",
      "metadata": {
        "id": "XpNq57WJsGYZ"
      },
      "source": [
        "# Fundamentos de Programación con Python\n",
        "\n",
        "Estos Notebooks fueron creados por profesores y diseñadores de contenido de la Universidad del Norte, en Barranquilla - Colombia.\n",
        "\n",
        "Todos estos materiales cuentan con una licencia <b>Creative Commons</b> de libre uso con atribución.\n",
        "\n",
        "## Condicionales\n",
        "\n",
        "### Si-Sino-Finsi\n",
        "Recuerda que los condicionales nos permiten decidir qué instrucciones ejecutar y cuales no. El condicional Si-Sino-Finsi tiene la siguiente estructura:\n",
        "\n",
        "    Si (condición) Entonces\n",
        "        instrucción(es)\n",
        "    Sino\n",
        "        instrucción(es)\n",
        "    Fin Si\n",
        "\n",
        "En Python, esto se escribe un poco diferente y la estructura general depende de las tabulaciónes. Por ejemplo:"
      ]
    },
    {
      "cell_type": "code",
      "metadata": {
        "id": "pKZ97ZM-sGYe"
      },
      "source": [
        "x = int(input(\"Por favor ingresa un número: \"))\n",
        "if x<0:\n",
        "    print('X es Negativo')\n",
        "else:\n",
        "    print('X es positivo')\n",
        "\n",
        "print('Esto ya está por fuera del condicional') #Esta fuera porque ya no hay tabulación"
      ],
      "execution_count": null,
      "outputs": []
    },
    {
      "cell_type": "markdown",
      "metadata": {
        "id": "5Jum-RBWsGYg"
      },
      "source": [
        "¿Qué pasa si X es 0? ¿Imprimirá positivo o negativo? ¿Cómo podríamos arreglar este programa para que si X es cero, imprima \"X es cero\"?\n",
        "\n"
      ]
    },
    {
      "cell_type": "code",
      "metadata": {
        "colab": {
          "base_uri": "https://localhost:8080/"
        },
        "id": "T-IJwx84sGYh",
        "outputId": "9fbdacda-d9f2-4696-9e06-6ed79c36fbb4"
      },
      "source": [
        "x = int(input(\"Por favor ingresa un número: \"))\r\n",
        "if x<0:\r\n",
        "    print('X es Negativo')\r\n",
        "elif x>0:\r\n",
        "    print('X es positivo')\r\n",
        "else:\r\n",
        "    print('X es cero')\r\n",
        "\r\n",
        "print('Esto ya está por fuera del condicional') #Esta fuera porque ya no hay tabulación"
      ],
      "execution_count": 2,
      "outputs": [
        {
          "output_type": "stream",
          "text": [
            "Por favor ingresa un número: 2\n",
            "X es positivo\n",
            "Esto ya está por fuera del condicional\n"
          ],
          "name": "stdout"
        }
      ]
    },
    {
      "cell_type": "markdown",
      "metadata": {
        "id": "O9QlnVcrsGYh"
      },
      "source": [
        "### Operadores lógicos en Python\n",
        "\n",
        "Antes de pasar a usar condicionales, debemos entender como manejar los operadores lógicos (y/o) en Python para poder evaluar múltiples expresiones al tiempo.\n",
        "\n",
        "En Python, los operadores lógicos son las palabras en inglés: and y or. Estos operadores nos permiten analizar múltiples expresiones. \n",
        "\n",
        "<table>\n",
        "<thead><tr>\n",
        "<th>P    </th>\n",
        "<th>Q    </th>\n",
        "<th>P And Q</th>\n",
        "<th>P Or Q</th>\n",
        "</tr>\n",
        "</thead>\n",
        "<tbody>\n",
        "<tr>\n",
        "<td>V</td>\n",
        "<td>V</td>\n",
        "<td>V</td>\n",
        "<td>V</td>\n",
        "</tr>\n",
        "<tr>\n",
        "<td>V</td>\n",
        "<td>F</td>\n",
        "<td>F</td>\n",
        "<td>V</td>\n",
        "</tr>\n",
        "<tr>\n",
        "<td>F</td>\n",
        "<td>V</td>\n",
        "<td>F</td>\n",
        "<td>V</td>\n",
        "</tr>\n",
        "<tr>\n",
        "<td>F</td>\n",
        "<td>F</td>\n",
        "<td>F</td>\n",
        "<td>F</td>\n",
        "</tr>\n",
        "</tbody></table>\n",
        "\n",
        "Aquí está el código Python que evalúa las expresiones"
      ]
    },
    {
      "cell_type": "code",
      "metadata": {
        "id": "xV01rcIwsGYi"
      },
      "source": [
        "print((True and True),(True or True))\n",
        "print((True and False),(True or False))\n",
        "print((False and True), (False or True))\n",
        "print((False and False),(False or False))\n"
      ],
      "execution_count": null,
      "outputs": []
    },
    {
      "cell_type": "markdown",
      "metadata": {
        "id": "tEK0yDpvsGYj"
      },
      "source": [
        "### Actividad 1\n",
        "\n",
        "Primero, vamos a pasar los siguientes pseudo-códigos con condicionales a Python\n",
        "\n",
        "Inicio\n",
        "    \n",
        "    a = leer()\n",
        "    b = leer()\n",
        "       \n",
        "    Si a>2 Entonces\n",
        "        imprimir a\n",
        "    Fin Si\n",
        "    \n",
        "    Si b < 4 Entonces\n",
        "        imprimir a\n",
        "    Fin Si\n",
        "Fin"
      ]
    },
    {
      "cell_type": "code",
      "metadata": {
        "colab": {
          "base_uri": "https://localhost:8080/"
        },
        "id": "uHT8h05zsGYk",
        "outputId": "1e18cd52-befd-4b28-ef88-519d7f363c82"
      },
      "source": [
        "a = int(input(\"Valor de A: \"))\r\n",
        "b = int(input(\"Valor de B: \"))\r\n",
        "\r\n",
        "if a>2:\r\n",
        "  print(a)\r\n",
        "\r\n",
        "if b<4:\r\n",
        "  print(a)\r\n"
      ],
      "execution_count": 4,
      "outputs": [
        {
          "output_type": "stream",
          "text": [
            "Valor de A: 3\n",
            "Valor de B: 5\n",
            "3\n"
          ],
          "name": "stdout"
        }
      ]
    },
    {
      "cell_type": "markdown",
      "metadata": {
        "id": "O-xDf9-KsGYk"
      },
      "source": [
        "Dado que ambos condicionales imprimen a. Podríamos modificar el código para tener un sólo condicional usando los operadores lógicos?"
      ]
    },
    {
      "cell_type": "code",
      "metadata": {
        "colab": {
          "base_uri": "https://localhost:8080/"
        },
        "id": "6UNbAkz4sGYl",
        "outputId": "159d7cd7-67ec-4698-feee-5e6ff4fbebca"
      },
      "source": [
        "a = int(input(\"Valor de A: \"))\r\n",
        "b = int(input(\"Valor de B: \"))\r\n",
        "\r\n",
        "if a>2 and b<4:\r\n",
        "  print(a)"
      ],
      "execution_count": 5,
      "outputs": [
        {
          "output_type": "stream",
          "text": [
            "Valor de A: 3\n",
            "Valor de B: 2\n",
            "3\n"
          ],
          "name": "stdout"
        }
      ]
    },
    {
      "cell_type": "markdown",
      "metadata": {
        "id": "a7p6YXbhsGYm"
      },
      "source": [
        "### Actividad 2\n",
        "\n",
        "Los operadores lógicos pueden evaluar números y otros tipos de datos.\n",
        "\n",
        "Para ingresar al programa de medicina, el estudiante debe tener diploma de bachiller y ser mayor de 17 años. Creemos el código para validar esta información dadas las variables tieneDiploma (booleana) y edad (entero)."
      ]
    },
    {
      "cell_type": "code",
      "metadata": {
        "colab": {
          "base_uri": "https://localhost:8080/"
        },
        "id": "qBKgTxiHsGYm",
        "outputId": "b5785c59-1040-4f8c-a4e3-e8ee096b2816"
      },
      "source": [
        "edad = int(input(\"Ingrese edad: \"))\r\n",
        "tieneDiploma = bool(input(\"Tiene diploma: \"))\r\n",
        "\r\n",
        "if edad>17 and tieneDiploma==True:\r\n",
        "  print(\"Puede ingresar al programa\")"
      ],
      "execution_count": 8,
      "outputs": [
        {
          "output_type": "stream",
          "text": [
            "Ingrese edad: 23\n",
            "Tiene diploma: True\n",
            "Puede ingresar al programa\n"
          ],
          "name": "stdout"
        }
      ]
    },
    {
      "cell_type": "markdown",
      "metadata": {
        "id": "sRFQX_S7sGYn"
      },
      "source": [
        "### Actividad 3\n",
        "\n",
        "Recordemos uno de los retos de la primera sesión: \"Escribe el código para leer un número entero e imprime el último dígito.\"\n",
        "\n",
        "Ahora, vamos a modificar este código para imprimir SI si el último dígito es 4."
      ]
    },
    {
      "cell_type": "code",
      "metadata": {
        "colab": {
          "base_uri": "https://localhost:8080/"
        },
        "id": "_KBBlT-hsGYn",
        "outputId": "8736db0c-6a3d-41a8-d5e1-9da25705c5a0"
      },
      "source": [
        "num = int(input(\"Ingrese un numero: \"))\r\n",
        "ultimoDigito = num %10\r\n",
        "\r\n",
        "if ultimoDigito == 4:\r\n",
        "  print(\"SI\")\r\n",
        "\r\n",
        "\r\n"
      ],
      "execution_count": 3,
      "outputs": [
        {
          "output_type": "stream",
          "text": [
            "Ingrese un numero: 3564\n",
            "SI\n"
          ],
          "name": "stdout"
        }
      ]
    }
  ]
}