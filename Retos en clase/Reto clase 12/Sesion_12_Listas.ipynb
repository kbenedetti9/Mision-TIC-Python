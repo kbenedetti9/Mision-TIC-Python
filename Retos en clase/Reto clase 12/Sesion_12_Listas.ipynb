{
  "nbformat": 4,
  "nbformat_minor": 0,
  "metadata": {
    "kernelspec": {
      "display_name": "Python 3",
      "language": "python",
      "name": "python3"
    },
    "language_info": {
      "codemirror_mode": {
        "name": "ipython",
        "version": 3
      },
      "file_extension": ".py",
      "mimetype": "text/x-python",
      "name": "python",
      "nbconvert_exporter": "python",
      "pygments_lexer": "ipython3",
      "version": "3.8.3"
    },
    "colab": {
      "name": "Sesion_12_Listas (1).ipynb",
      "provenance": []
    }
  },
  "cells": [
    {
      "cell_type": "markdown",
      "metadata": {
        "id": "dPb7--r6ci7V"
      },
      "source": [
        "# Fundamentos de Programación con Python\n",
        "\n",
        "Estos Notebooks fueron creados por profesores y diseñadores de contenido de la Universidad del Norte, en Barranquilla - Colombia.\n",
        "\n",
        "Todos estos materiales cuentan con una licencia <b>Creative Commons</b> de libre uso con atribución.\n",
        "\n",
        "## Vectores/Listas\n",
        "\n",
        "Como vimos en la parte teórica, los vectores son una estructura de dato organizada que nos permite almacenar información. Una de las implementaciones más utilizadas es Python son las listas (List). Nota: En Python hay algunas diferencias menores entre un arreglo (array) y una lista, pero por ahora vamos a asumir que son lo mismo.\n",
        "\n",
        "Vamos a ver una definición de esta estructura en Python. Para crear una lista, utilizamos los corchetes y separamos los valores de nuestra estructura con una coma. Por ejemplo, en la siguiente instrucción estamos creando una lista llamada a con los valores 1, 3, 2, 5, 2."
      ]
    },
    {
      "cell_type": "code",
      "metadata": {
        "id": "7hj9W5SVci7b",
        "outputId": "22e04741-c9bf-47cf-ec69-4d81da128517"
      },
      "source": [
        "a = [1, 3, 2, 5, 2]\n",
        "print(a)"
      ],
      "execution_count": null,
      "outputs": [
        {
          "output_type": "stream",
          "text": [
            "[1, 3, 2, 5, 2]\n"
          ],
          "name": "stdout"
        }
      ]
    },
    {
      "cell_type": "markdown",
      "metadata": {
        "id": "u3jI21_jci7p"
      },
      "source": [
        "Las listas no necesariamente tienen que ser de números, también pueden ser de texto:"
      ]
    },
    {
      "cell_type": "code",
      "metadata": {
        "id": "3lcU5rW7ci7r",
        "outputId": "53168b98-5f6b-4c5a-c481-89e9813980fe"
      },
      "source": [
        "nombres = [\"María\", \"Juan\",\"Andrés\"]\n",
        "print(nombres)"
      ],
      "execution_count": null,
      "outputs": [
        {
          "output_type": "stream",
          "text": [
            "['María', 'Juan', 'Andrés']\n"
          ],
          "name": "stdout"
        }
      ]
    },
    {
      "cell_type": "markdown",
      "metadata": {
        "id": "rCNMDR_Pci75"
      },
      "source": [
        "Los valores de la lista empiezan en la posición <b>cero</b>. Vamos a imprimir los valores iniciales de las listas."
      ]
    },
    {
      "cell_type": "code",
      "metadata": {
        "id": "7EFInXL3ci78",
        "outputId": "6278032f-1743-4946-f25d-c00cf6f75eab"
      },
      "source": [
        "print(a[0])\n",
        "print(nombres[0])"
      ],
      "execution_count": null,
      "outputs": [
        {
          "output_type": "stream",
          "text": [
            "1\n",
            "María\n"
          ],
          "name": "stdout"
        }
      ]
    },
    {
      "cell_type": "markdown",
      "metadata": {
        "id": "avW5MVdLci8H"
      },
      "source": [
        "Aquí van algunas funciones útiles cuando trabajamos con listas.\n",
        "1. append(x) - inserta un nuevo valor x al final de la lista\n",
        "2. remove(x) - remueve el primer valor X de la lista\n",
        "3. pop([i]) - remueve el valor en la posición i. pop() remueve el último valor de la lista\n",
        "4. len(x) -  permite calcular el tamaño de una lista\n",
        "\n",
        "Ahora, veamoslas en acción"
      ]
    },
    {
      "cell_type": "code",
      "metadata": {
        "id": "Zas4medLci8J",
        "outputId": "77504537-8184-479a-e7ea-daa5376e360a"
      },
      "source": [
        "nombres = [\"María\", \"Juan\",\"Andrés\"]\n",
        "\n",
        "\n",
        "nombres.append(\"Jorge\")\n",
        "print(nombres)\n",
        "print(len(nombres))\n",
        "\n",
        "nombres.remove(\"Juan\")\n",
        "print(nombres)\n",
        "print(len(nombres))\n",
        "\n",
        "nombres.pop(2)\n",
        "print(nombres)\n",
        "print(len(nombres))"
      ],
      "execution_count": null,
      "outputs": [
        {
          "output_type": "stream",
          "text": [
            "['María', 'Juan', 'Andrés', 'Jorge']\n",
            "4\n",
            "['María', 'Andrés', 'Jorge']\n",
            "3\n",
            "['María', 'Andrés']\n",
            "2\n"
          ],
          "name": "stdout"
        }
      ]
    },
    {
      "cell_type": "markdown",
      "metadata": {
        "id": "ARjb_e6gci8T"
      },
      "source": [
        "### Actividad 1\n",
        " \n",
        "Usando nuestro conocimiento de ciclos, vamos a crear una lista con los numeros pares del 1 al 10 y un ciclo para que los imprima."
      ]
    },
    {
      "cell_type": "code",
      "metadata": {
        "id": "zHiH0n4xci8V",
        "colab": {
          "base_uri": "https://localhost:8080/"
        },
        "outputId": "c7528399-f201-4db8-fe11-9e9b56c03fc8"
      },
      "source": [
        "numeros=[]\n",
        "for i in range(1,11):\n",
        "  if i%2 == 0:\n",
        "    numeros.append(i)\n",
        "for i in numeros:\n",
        "  print(i)  "
      ],
      "execution_count": 2,
      "outputs": [
        {
          "output_type": "stream",
          "text": [
            "2\n",
            "4\n",
            "6\n",
            "8\n",
            "10\n"
          ],
          "name": "stdout"
        }
      ]
    },
    {
      "cell_type": "markdown",
      "metadata": {
        "id": "V4fg5M2Ici8h"
      },
      "source": [
        "### Actividad 2\n",
        "Escribamos un programa que nos permita crear una lista de 6 números aleatorios en Python, y creemos tres funciones de la siguiente forma:\n",
        "\n",
        "   - mayor(x) - Una función que imprima el número mayor valor de una lista x\n",
        "   - primos(x) - Una función que imprima los números de la lista que son números primos\n",
        "   - orden(x) - Una función que ordene los datos de una lista x ascendentemente y la imprima en orden"
      ]
    },
    {
      "cell_type": "code",
      "metadata": {
        "id": "q0rUVspvci8l",
        "colab": {
          "base_uri": "https://localhost:8080/"
        },
        "outputId": "16e46f3b-515c-43e4-d8cf-8325a99e2478"
      },
      "source": [
        "import random\n",
        "\n",
        "def mayor(x):\n",
        "  mayor = x[0]\n",
        "  for i in x:\n",
        "    if i> mayor:\n",
        "      mayor = i\n",
        "  return mayor \n",
        "\n",
        "def primos(x):\n",
        "  \n",
        "  primos = []\n",
        "  num = 0\n",
        "  for i in range(6):\n",
        "    num = x[i]\n",
        "    cont=0\n",
        "    for j in range(1,num+1):\n",
        "      if num%j == 0:\n",
        "        cont+=1\n",
        "    if cont == 2:\n",
        "      primos.append(num)\n",
        "  return primos    \n",
        "\n",
        "\n",
        "def orden(x):\n",
        "  nueva = ''\n",
        "  nueva = sorted(x)\n",
        "  return nueva      \n",
        "\n",
        "\n",
        "def main():\n",
        "  aleatorio = []\n",
        "  num = 0 \n",
        "  for i in range(6):\n",
        "    num = random.randint(1,10)\n",
        "    aleatorio.append(num)\n",
        "  print(\"La lista aleatoria creada es: {}\".format(aleatorio))  \n",
        "  print(\"El numero mayor es: {}\".format(mayor(aleatorio)))\n",
        "  print(\"Los numeros primos son: {}\".format(primos(aleatorio)))\n",
        "  print(\"Lista en orden: {}\".format(orden(aleatorio)))\n",
        "\n",
        "main()\n",
        "  "
      ],
      "execution_count": 14,
      "outputs": [
        {
          "output_type": "stream",
          "text": [
            "La lista aleatoria creada es: [3, 4, 2, 9, 10, 7]\n",
            "El numero mayor es: 10\n",
            "Los numeros primos son: [3, 2, 7]\n",
            "Lista en orden: [2, 3, 4, 7, 9, 10]\n"
          ],
          "name": "stdout"
        }
      ]
    }
  ]
}