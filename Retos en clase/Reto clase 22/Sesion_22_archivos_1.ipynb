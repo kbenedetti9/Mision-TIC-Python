{
  "nbformat": 4,
  "nbformat_minor": 0,
  "metadata": {
    "kernelspec": {
      "display_name": "Python 3",
      "language": "python",
      "name": "python3"
    },
    "language_info": {
      "codemirror_mode": {
        "name": "ipython",
        "version": 3
      },
      "file_extension": ".py",
      "mimetype": "text/x-python",
      "name": "python",
      "nbconvert_exporter": "python",
      "pygments_lexer": "ipython3",
      "version": "3.8.3"
    },
    "colab": {
      "name": "Sesion_22_archivos_1 (1).ipynb",
      "provenance": []
    }
  },
  "cells": [
    {
      "cell_type": "markdown",
      "metadata": {
        "id": "2vJbNdzPV5y_"
      },
      "source": [
        "# Fundamentos de Programación con Python\n",
        "\n",
        "Estos Notebooks fueron creados por profesores y diseñadores de contenido de la Universidad del Norte, en Barranquilla - Colombia.\n",
        "\n",
        "Todos estos materiales cuentan con una licencia <b>Creative Commons</b> de libre uso con atribución.\n",
        "\n",
        "## Manejo de archivos\n",
        "\n",
        "Vamos ahora a trabajar tanto con archivos de texto como binarios. \n",
        "\n",
        "En Python, la función open() retorna un objeto tipo archivo. La función recibe dos parámetros que incluyen el nombre del archivo y el segundo es la forma en la que se abrirá el archivo, el modo (leer, leer y escribir, etc). Los siguientes 'modos' pueden ser combinados dependiendo de la operación que se desee realizar. Por ejemplo, para leer y escribir un archivo de texto sin eliminar el archivo existente se podría usar 'r+' y para abrir un archivo binario para lectura usaríamos 'rb'\n",
        "\n",
        "<table>\n",
        "<thead><tr>\n",
        "<th>Modo</th>\n",
        "<th>Descripción</th>\n",
        "</tr>\n",
        "</thead>\n",
        "<tbody>\n",
        "<tr>\n",
        "<td><code>'r'</code></td>\n",
        "<td>Abrir el archivo en modo lectura, este es el valor por defecto</td>\n",
        "</tr>\n",
        "<tr>\n",
        "<td><code>'w'</code></td>\n",
        "<td>Abrir el archivo para escritura, eliminará cualquier archivo existente con el mismo nombre</td>\n",
        "</tr>\n",
        "<tr>\n",
        "<td><code>'x'</code></td>\n",
        "<td>Crear el archivo, si existe uno con el mismo nombre sacará un error</td>\n",
        "</tr>\n",
        "<tr>\n",
        "<td><code>'a'</code></td>\n",
        "<td>Abrir el archivo para escribir. Todo lo escrito se adicionará al final del archivo</td>\n",
        "</tr>\n",
        "<tr>\n",
        "<td><code>'b'</code></td>\n",
        "<td>Abrir en modo binario</td>\n",
        "</tr>\n",
        "<tr>\n",
        "<td><code>'t'</code></td>\n",
        "<td>Abrir en modo texto, este es el valor por defecto</td>\n",
        "</tr>\n",
        "<tr>\n",
        "<td><code>'+'</code></td>\n",
        "<td>Abrir para lectura y escritura</td>\n",
        "</tr>\n",
        "</tbody></table>\n",
        "\n",
        "Crea un archivo de texto llamado myarchivo en notepad y escribe \"Esta es una prueba\" en la primeria línea y \"Segunda línea\". Guardalo en tu computador. Ahora vamos a leer la información del archivo.\n",
        "\n",
        "Ten en cuenta la documentación si estás trabajando con Google Colab."
      ]
    },
    {
      "cell_type": "code",
      "metadata": {
        "id": "otife7AsV5zA",
        "colab": {
          "resources": {
            "http://localhost:8080/nbextensions/google.colab/files.js": {
              "data": "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",
              "ok": true,
              "headers": [
                [
                  "content-type",
                  "application/javascript"
                ]
              ],
              "status": 200,
              "status_text": ""
            }
          },
          "base_uri": "https://localhost:8080/",
          "height": 39
        },
        "outputId": "1d8ddf0d-11df-408e-c9ab-c86c9368f4d3"
      },
      "source": [
        "# Para trabajar en Google Colab puedes o subir el archivo manualmente o usar las siguientes dos líneas de código para seleccionar el archivo a subir\n",
        "from google.colab import files\n",
        "uploaded = files.upload()      \n",
        "\n"
      ],
      "execution_count": null,
      "outputs": [
        {
          "output_type": "display_data",
          "data": {
            "text/html": [
              "\n",
              "     <input type=\"file\" id=\"files-68ca8e27-9bea-4a21-bfa3-d8b007328818\" name=\"files[]\" multiple disabled\n",
              "        style=\"border:none\" />\n",
              "     <output id=\"result-68ca8e27-9bea-4a21-bfa3-d8b007328818\">\n",
              "      Upload widget is only available when the cell has been executed in the\n",
              "      current browser session. Please rerun this cell to enable.\n",
              "      </output>\n",
              "      <script src=\"/nbextensions/google.colab/files.js\"></script> "
            ],
            "text/plain": [
              "<IPython.core.display.HTML object>"
            ]
          },
          "metadata": {
            "tags": []
          }
        }
      ]
    },
    {
      "cell_type": "code",
      "metadata": {
        "id": "a8U8Ln_QiM0O",
        "colab": {
          "base_uri": "https://localhost:8080/",
          "height": 34
        },
        "outputId": "009fcbbb-42e8-43c7-ef61-7be6eafcbd36"
      },
      "source": [
        "! dir"
      ],
      "execution_count": null,
      "outputs": [
        {
          "output_type": "stream",
          "text": [
            "matrizAsignacion.txt  myarchivo  sample_data\n"
          ],
          "name": "stdout"
        }
      ]
    },
    {
      "cell_type": "code",
      "metadata": {
        "id": "GiBeSq1NYNqo"
      },
      "source": [
        "miArchivo = open('C:\\\\Users\\\\pcdev\\\\Downloads\\\\', 'w')"
      ],
      "execution_count": null,
      "outputs": []
    },
    {
      "cell_type": "code",
      "metadata": {
        "id": "_klhVS2yapnO"
      },
      "source": [
        "miArchivo.write('Java\\n')\n",
        "miArchivo.close()"
      ],
      "execution_count": null,
      "outputs": []
    },
    {
      "cell_type": "markdown",
      "metadata": {
        "id": "Xvy4ap2MV5zF"
      },
      "source": [
        "Ahora vamos a leer del archivo usando la función read()."
      ]
    },
    {
      "cell_type": "code",
      "metadata": {
        "id": "8o2OVsq9V5zG",
        "colab": {
          "base_uri": "https://localhost:8080/",
          "height": 67
        },
        "outputId": "0deff536-0ed3-4a53-a323-d819df5dce24"
      },
      "source": [
        "miArchivo = open('myarchivo', 'r')\n",
        "informacion = miArchivo.read()\n",
        "\n",
        "print(informacion)"
      ],
      "execution_count": null,
      "outputs": [
        {
          "output_type": "stream",
          "text": [
            "Python\n",
            "Java\n",
            "\n"
          ],
          "name": "stdout"
        }
      ]
    },
    {
      "cell_type": "code",
      "metadata": {
        "id": "uKlWOWrRbgEH"
      },
      "source": [
        "f = open('myarchivo','w')\n",
        "f.write('Python,Java,C#\\n')\n",
        "f.write('Java\\n')\n",
        "f.write('C#\\n')\n",
        "f.close()"
      ],
      "execution_count": null,
      "outputs": []
    },
    {
      "cell_type": "code",
      "metadata": {
        "id": "loQyCwJncCt9",
        "colab": {
          "base_uri": "https://localhost:8080/",
          "height": 84
        },
        "outputId": "48804a4d-5e59-485c-b06d-4430552ae94d"
      },
      "source": [
        "f = open('myarchivo','r')\n",
        "print(f.readline())\n",
        "print(f.readline())\n",
        "print(f.readline())\n",
        "f.close()"
      ],
      "execution_count": null,
      "outputs": [
        {
          "output_type": "stream",
          "text": [
            "C#\n",
            "\n",
            "\n",
            "\n"
          ],
          "name": "stdout"
        }
      ]
    },
    {
      "cell_type": "code",
      "metadata": {
        "id": "uo7S2fBcdWMi",
        "colab": {
          "base_uri": "https://localhost:8080/",
          "height": 218
        },
        "outputId": "07be092c-71ac-4682-d6ab-e29f087c60af"
      },
      "source": [
        "f = open('myarchivo','r')\n",
        "print(f.read())"
      ],
      "execution_count": null,
      "outputs": [
        {
          "output_type": "stream",
          "text": [
            "Rafael\n",
            "Ana\n",
            ",C#\n",
            "Java\n",
            "C#\n",
            "SQL\n",
            "C\n",
            "Go\n",
            "Kotlin\n",
            "Juana\n",
            "Maria\n",
            "\n"
          ],
          "name": "stdout"
        }
      ]
    },
    {
      "cell_type": "code",
      "metadata": {
        "id": "ycFuOrKldj1x",
        "colab": {
          "base_uri": "https://localhost:8080/",
          "height": 50
        },
        "outputId": "f7d306c2-cc1d-4cf4-90c5-a0d9653d152d"
      },
      "source": [
        "f = open('myarchivo','r')\n",
        "print(f.readline())\n",
        "f.close()"
      ],
      "execution_count": null,
      "outputs": [
        {
          "output_type": "stream",
          "text": [
            "Python,Java,C#\n",
            "\n"
          ],
          "name": "stdout"
        }
      ]
    },
    {
      "cell_type": "code",
      "metadata": {
        "id": "5Gu_f5SXdtRx",
        "colab": {
          "base_uri": "https://localhost:8080/",
          "height": 34
        },
        "outputId": "58d71bc5-9be4-4daa-b2cb-3ecba57a8fab"
      },
      "source": [
        "f = open('myarchivo','r')\n",
        "print(f.readlines())\n",
        "f.close()"
      ],
      "execution_count": null,
      "outputs": [
        {
          "output_type": "stream",
          "text": [
            "['Python,Java,C#\\n', 'Java\\n', 'C#\\n', 'SQL\\n', 'C\\n', 'Go\\n', 'Kotlin\\n']\n"
          ],
          "name": "stdout"
        }
      ]
    },
    {
      "cell_type": "code",
      "metadata": {
        "id": "YiuzCbwneA8h",
        "colab": {
          "base_uri": "https://localhost:8080/",
          "height": 67
        },
        "outputId": "1cacac6f-49ca-4152-b09e-c208e1f715a3"
      },
      "source": [
        "f = open('myarchivo','r+')\n",
        "print(f.readlines())\n",
        "f.write('SQL\\n')\n",
        "print(f.readlines())\n",
        "f.writelines(['C\\n','Go\\n','Kotlin\\n'])\n",
        "print(f.readlines())\n",
        "f.close()"
      ],
      "execution_count": null,
      "outputs": [
        {
          "output_type": "stream",
          "text": [
            "['Python,Java,C#\\n', 'Java\\n', 'C#\\n']\n",
            "[]\n",
            "[]\n"
          ],
          "name": "stdout"
        }
      ]
    },
    {
      "cell_type": "code",
      "metadata": {
        "id": "w4lerIycgUxQ",
        "colab": {
          "base_uri": "https://localhost:8080/",
          "height": 50
        },
        "outputId": "e71c2bad-f177-4fdf-a283-f9d07083ec13"
      },
      "source": [
        "f = open('myarchivo','a')\n",
        "for i in range(2):\n",
        "  nombre = input('Nombre: ')\n",
        "  f.write(nombre+'\\n')\n",
        "\n",
        "f.close()"
      ],
      "execution_count": null,
      "outputs": [
        {
          "output_type": "stream",
          "text": [
            "Nombre: Juana\n",
            "Nombre: Maria\n"
          ],
          "name": "stdout"
        }
      ]
    },
    {
      "cell_type": "markdown",
      "metadata": {
        "id": "rFG-ivjMV5zK"
      },
      "source": [
        "En este caso, vemos que la función imprime toda las líneas del archivo.\n",
        "\n",
        "\n",
        "Adicionalmente podemos leer una línea al tiempo."
      ]
    },
    {
      "cell_type": "code",
      "metadata": {
        "id": "OTA14yW8V5zK"
      },
      "source": [
        "miArchivo = open('myarchivo', 'r')\n",
        "\n",
        "linea = miArchivo.readline()\n",
        "\n",
        "print(linea)\n",
        "\n",
        "print(\"Lei la primera línea. Vamos a la segunda\")\n",
        "\n",
        "linea = miArchivo.readline()\n",
        "\n",
        "print(linea)"
      ],
      "execution_count": null,
      "outputs": []
    },
    {
      "cell_type": "markdown",
      "metadata": {
        "id": "PppGLTQoV5zN"
      },
      "source": [
        "### Actividad 1\n",
        "\n",
        "Vamos a trabajar con el archivo matrizAsignación que está disponible para descargar en la plataforma del curso. Este archivo contiene la información de la matriz de asignación del cliente LactoCaribe para Transportes del Norte. \n",
        "\n",
        "El objetivo de esta actividad es leer la matriz de asignación y pasar los datos a una matriz en Python como la que veníamos trabajando. Finalmente vamos a imprimir la matriz."
      ]
    },
    {
      "cell_type": "code",
      "metadata": {
        "id": "J9wZX8g4V5zO",
        "colab": {
          "base_uri": "https://localhost:8080/",
          "height": 54
        },
        "outputId": "bcf3c34d-d4a0-48f1-cf5f-6d12c2cb8b8a"
      },
      "source": [
        "def leerMatrizAsignacion():\n",
        "    f = open('matrizAsignacion.txt')\n",
        "    matriz=[]\n",
        "    numeros =[]\n",
        "    for linea in f:\n",
        "      linea = linea.strip() # Quitar \\n y espacios\n",
        "      v = linea.split(',') # Divide por la coma\n",
        "      for i in v:\n",
        "        numeros.append(int(i))\n",
        "      matriz.append(numeros)\n",
        "      numeros=[]\n",
        "\n",
        "    print(matriz)\n",
        "    f.close()\n",
        "leerMatrizAsignacion()"
      ],
      "execution_count": null,
      "outputs": [
        {
          "output_type": "stream",
          "text": [
            "[[1, 5, 1329, 0], [2, 4, 0, 35], [3, 1, 1462, 54], [4, 3, 1222, 35], [5, 2, -111, 44], [6, 3, 1389, 52], [7, 1, 1500, 35], [8, 1, 1419, 50], [9, 5, 1355, 44], [10, 4, 1491, 46], [11, 1, 1427, 38], [12, 4, 1421, 31], [13, 3, 1259, 55], [14, 5, 1489, 35], [15, 5, 1417, 37], [16, 1, 1220, 33], [17, 1, 1291, 35], [18, 2, 1341, 48], [19, 4, 1386, 54], [20, 3, 1467, 34], [21, 1, 1429, 42], [22, 5, 1232, 32], [23, 3, 1343, 54], [24, 1, 1426, 33], [25, 4, 1332, 36], [26, 4, 1494, 40], [27, 3, 1280, 39], [28, 1, 1374, 36], [29, 2, 1376, 48], [30, 4, 1349, 50]]\n"
          ],
          "name": "stdout"
        }
      ]
    },
    {
      "cell_type": "code",
      "metadata": {
        "id": "3dEW-AC5in5y",
        "colab": {
          "base_uri": "https://localhost:8080/"
        },
        "outputId": "ab4222db-e6ff-45fd-8e7e-f02165b945f5"
      },
      "source": [
        "! dir"
      ],
      "execution_count": 14,
      "outputs": [
        {
          "output_type": "stream",
          "text": [
            "matrizAsignacion.txt  sample_data\n"
          ],
          "name": "stdout"
        }
      ]
    },
    {
      "cell_type": "markdown",
      "metadata": {
        "id": "66MdHWLObDVh"
      },
      "source": [
        "**Ejercicio lstrip:** Permite eliminar el espacio antes del texto"
      ]
    },
    {
      "cell_type": "code",
      "metadata": {
        "id": "A6txyo95m_N0",
        "colab": {
          "base_uri": "https://localhost:8080/"
        },
        "outputId": "86ebcf9c-9db1-44a0-bb40-b4668332635b"
      },
      "source": [
        "l = '   Esto es un texto'\n",
        "j = l.lstrip()\n",
        "print(j)"
      ],
      "execution_count": 13,
      "outputs": [
        {
          "output_type": "stream",
          "text": [
            "Esto es un texto\n"
          ],
          "name": "stdout"
        }
      ]
    },
    {
      "cell_type": "markdown",
      "metadata": {
        "id": "6PoaJdo5aEyN"
      },
      "source": [
        "## Actividad 3\r\n",
        "Imprime el contenido de la primera linea del archivo"
      ]
    },
    {
      "cell_type": "code",
      "metadata": {
        "id": "FjLtmUOBohTA",
        "colab": {
          "base_uri": "https://localhost:8080/",
          "height": 50
        },
        "outputId": "3693a289-231f-4129-b8bc-6df3280c067f"
      },
      "source": [
        "f = open('matrizAsignacion.txt')\n",
        "print(f.readline())\n",
        "f.close()"
      ],
      "execution_count": null,
      "outputs": [
        {
          "output_type": "stream",
          "text": [
            "1,5,1329,0\n",
            "\n"
          ],
          "name": "stdout"
        }
      ]
    },
    {
      "cell_type": "markdown",
      "metadata": {
        "id": "de51qbLIaJLV"
      },
      "source": [
        "## Actividad 4\r\n",
        "Escribe una nueva linea en el archivo"
      ]
    },
    {
      "cell_type": "code",
      "metadata": {
        "id": "hbddYhxTtLIQ"
      },
      "source": [
        "f = open('matrizAsignacion.txt','a')\n",
        "f.write('5,4,4,10')\n",
        "f.close()"
      ],
      "execution_count": 4,
      "outputs": []
    },
    {
      "cell_type": "markdown",
      "metadata": {
        "id": "HD2WEfXeaRp6"
      },
      "source": [
        "## Actividad 5\r\n",
        "Imprime todas las lineas del archivo"
      ]
    },
    {
      "cell_type": "code",
      "metadata": {
        "id": "zm_89yXQssMH",
        "colab": {
          "base_uri": "https://localhost:8080/",
          "height": 1000
        },
        "outputId": "e7f6b471-ae8b-42c9-faba-a3c34b090bef"
      },
      "source": [
        "f = open('matrizAsignacion.txt')\n",
        "for linea in f:\n",
        "  print(linea)\n",
        "f.close()"
      ],
      "execution_count": null,
      "outputs": [
        {
          "output_type": "stream",
          "text": [
            "1,5,1329,0\n",
            "\n",
            "2,4,0,35\n",
            "\n",
            "3,1,1462,54\n",
            "\n",
            "4,3,1222,35\n",
            "\n",
            "5,2,-111,44\n",
            "\n",
            "6,3,1389,52\n",
            "\n",
            "7,1,1500,35\n",
            "\n",
            "8,1,1419,50\n",
            "\n",
            "9,5,1355,44\n",
            "\n",
            "10,4,1491,46\n",
            "\n",
            "11,1,1427,38\n",
            "\n",
            "12,4,1421,31\n",
            "\n",
            "13,3,1259,55\n",
            "\n",
            "14,5,1489,35\n",
            "\n",
            "15,5,1417,37\n",
            "\n",
            "16,1,1220,33\n",
            "\n",
            "17,1,1291,35\n",
            "\n",
            "18,2,1341,48\n",
            "\n",
            "19,4,1386,54\n",
            "\n",
            "20,3,1467,34\n",
            "\n",
            "21,1,1429,42\n",
            "\n",
            "22,5,1232,32\n",
            "\n",
            "23,3,1343,54\n",
            "\n",
            "24,1,1426,33\n",
            "\n",
            "25,4,1332,36\n",
            "\n",
            "26,4,1494,40\n",
            "\n",
            "27,3,1280,39\n",
            "\n",
            "28,1,1374,36\n",
            "\n",
            "29,2,1376,48\n",
            "\n",
            "30,4,1349,50\n",
            "\n",
            "5,4,4,10\n"
          ],
          "name": "stdout"
        }
      ]
    }
  ]
}