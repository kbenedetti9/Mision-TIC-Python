{
  "nbformat": 4,
  "nbformat_minor": 0,
  "metadata": {
    "kernelspec": {
      "display_name": "Python 3",
      "language": "python",
      "name": "python3"
    },
    "language_info": {
      "codemirror_mode": {
        "name": "ipython",
        "version": 3
      },
      "file_extension": ".py",
      "mimetype": "text/x-python",
      "name": "python",
      "nbconvert_exporter": "python",
      "pygments_lexer": "ipython3",
      "version": "3.8.3"
    },
    "colab": {
      "name": "Sesion_8_Hacer_Hasta (2).ipynb",
      "provenance": []
    }
  },
  "cells": [
    {
      "cell_type": "markdown",
      "metadata": {
        "id": "RdiWbmX1ZQft"
      },
      "source": [
        "# Fundamentos de Programación con Python\n",
        "\n",
        "Estos Notebooks fueron creados por profesores y diseñadores de contenido de la Universidad del Norte, en Barranquilla - Colombia.\n",
        "\n",
        "Todos estos materiales cuentan con una licencia <b>Creative Commons</b> de libre uso con atribución.\n",
        "\n",
        "## Hacer hasta\n",
        "\n",
        "Como vimos anteriormente, en Python, el ciclo Hacer hasta no tiene una traducción literal. \n",
        "\n",
        "Este ciclo se puede manejar con Mientras Que \"while\" pero adicionando un condicional que termine el ciclo cuando se necesario. El componente práctico del día de hoy nos ayudará a reforzar el conocimiento del while y a utilizar nuevas opciones para manejar los ciclos más eficientemente.\n",
        "\n",
        "Empecemos con algo sencillo"
      ]
    },
    {
      "cell_type": "code",
      "metadata": {
        "id": "Hq6rKXlyZQf0",
        "outputId": "2bd354a8-efa1-4635-b365-2ea1d51aec8f"
      },
      "source": [
        "i = 1\n",
        "while i < 10:\n",
        "    if i == 5:\n",
        "        break\n",
        "    \n",
        "    print(i)\n",
        "    i += 1"
      ],
      "execution_count": null,
      "outputs": [
        {
          "output_type": "stream",
          "text": [
            "1\n",
            "2\n",
            "3\n",
            "4\n"
          ],
          "name": "stdout"
        }
      ]
    },
    {
      "cell_type": "markdown",
      "metadata": {
        "id": "S2cgowRCZQf2"
      },
      "source": [
        "¿Por qué solo imprime hasta 4?\n",
        "\n",
        "Python tiene otra expresión útil que nos puede servir más adelante. Es la expresión <b>continue</b>. Mientras que break interrumpe el ciclo que se está ejecutando, continue hace que se pase a la siguiente iteración del ciclo sin ejecutar el código que está por debajo de la expresión. Miremos la diferencia si cambiamos el código anterior.\n",
        "\n",
        "Una consideración importante es que tenemos que mover el incremento al comienzo del ciclo, de lo contrario una vez llegue a 5 se saltará esa línea y nunca se incrementará x, es decir, el ciclo se volvería infinito."
      ]
    },
    {
      "cell_type": "code",
      "metadata": {
        "id": "EVBZgS7TZQf3",
        "outputId": "b1ca30fd-bd80-42e6-9d68-ee6f5f38df46"
      },
      "source": [
        "x = 1\n",
        "while x < 10:\n",
        "    x += 1\n",
        "    if x == 5:\n",
        "        continue\n",
        "    print(x)\n"
      ],
      "execution_count": null,
      "outputs": [
        {
          "output_type": "stream",
          "text": [
            "2\n",
            "3\n",
            "4\n",
            "6\n",
            "7\n",
            "8\n",
            "9\n",
            "10\n"
          ],
          "name": "stdout"
        }
      ]
    },
    {
      "cell_type": "markdown",
      "metadata": {
        "id": "PzIFTSbrZQf3"
      },
      "source": [
        "### Actividad 1\n",
        "\n",
        "El día de ayer trabajamos con un ciclo que imprimiera los dígitos de un número. Vamos a modificarlo para usar break e interrumpir el ciclo. El código debe imprimir los dígitos de un número hasta que termine los dígitos o hasta que encuentre un 4 en el número. El programa debe deternerse sin imprimir el número 4."
      ]
    },
    {
      "cell_type": "code",
      "metadata": {
        "colab": {
          "base_uri": "https://localhost:8080/"
        },
        "id": "bb7MZ1PzZQf4",
        "outputId": "3b33791f-ce6b-406b-cbe9-cf7b18275f47"
      },
      "source": [
        "   numero = input(\"Ingresa un numero \")\r\n",
        "   r = len(numero)\r\n",
        "   i = 0\r\n",
        "   while i < r:\r\n",
        "     if numero[i] == '4':\r\n",
        "       break\r\n",
        "     else:  \r\n",
        "       print(numero[i])\r\n",
        "       i += 1\r\n",
        "\r\n"
      ],
      "execution_count": 16,
      "outputs": [
        {
          "output_type": "stream",
          "text": [
            "Ingresa un numero 8976\n",
            "8\n",
            "9\n",
            "7\n",
            "6\n"
          ],
          "name": "stdout"
        }
      ]
    },
    {
      "cell_type": "markdown",
      "metadata": {
        "id": "QUr7yUHDZQf4"
      },
      "source": [
        "### Actividad 2\n",
        "\n",
        "Ahora creemos un programa que dependa del usuario para deternerse. En este caso, vamos a dejar el ciclo como Infinito (while True) y le solicitamos al usuario que seleccioné una opción del menú y de acuerdo a la opción, los números requeridos para la operación.\n",
        "1. Suma a + b\n",
        "2. Resta a - b\n",
        "3. Imprime a\n",
        "4. Termina el programa\n",
        "\n",
        "Como puedes ver, 4 terminar la ejecución del programa."
      ]
    },
    {
      "cell_type": "code",
      "metadata": {
        "colab": {
          "base_uri": "https://localhost:8080/"
        },
        "id": "MpCbWGVEZQf5",
        "outputId": "fa8dede5-7045-4fb0-a074-d8387b5adb53"
      },
      "source": [
        "   while True:\r\n",
        "     print(\"1.Suma\")\r\n",
        "     print(\"2.Resta\")\r\n",
        "     print(\"3.Muestra numero\")\r\n",
        "     print(\"4.Salir\")\r\n",
        "     opcion = int(input(\"Ingresa el numero correspondiente a la opcion \"))\r\n",
        "     if opcion == 1:\r\n",
        "       num1 = int(input(\"Ingresa un numero \"))\r\n",
        "       num2 = int(input(\"Ingresa otro numero \"))\r\n",
        "       result = num1 + num2\r\n",
        "       print(result)\r\n",
        "     elif opcion == 2:\r\n",
        "       num1 = int(input(\"Ingresa un numero \"))\r\n",
        "       num2 = int(input(\"Ingresa otro numero \"))\r\n",
        "       result = num1 - num2\r\n",
        "       print(result)\r\n",
        "     elif opcion == 3:\r\n",
        "       num1 = int(input(\"Ingresa un numero \"))\r\n",
        "       print(num1)\r\n",
        "     else:\r\n",
        "       break  \r\n",
        "\r\n",
        "\r\n"
      ],
      "execution_count": 6,
      "outputs": [
        {
          "output_type": "stream",
          "text": [
            "1.Suma\n",
            "2.Resta\n",
            "3.Muestra numero\n",
            "4.Salir\n",
            "Ingresa el numero correspondiente a la opcion 1\n",
            "Ingresa un numero 3\n",
            "Ingresa otro numero 4\n",
            "7\n",
            "1.Suma\n",
            "2.Resta\n",
            "3.Muestra numero\n",
            "4.Salir\n",
            "Ingresa el numero correspondiente a la opcion 2\n",
            "Ingresa un numero 5\n",
            "Ingresa otro numero 2\n",
            "3\n",
            "1.Suma\n",
            "2.Resta\n",
            "3.Muestra numero\n",
            "4.Salir\n",
            "Ingresa el numero correspondiente a la opcion 3\n",
            "Ingresa un numero 2\n",
            "2\n",
            "1.Suma\n",
            "2.Resta\n",
            "3.Muestra numero\n",
            "4.Salir\n",
            "Ingresa el numero correspondiente a la opcion 4\n"
          ],
          "name": "stdout"
        }
      ]
    }
  ]
}