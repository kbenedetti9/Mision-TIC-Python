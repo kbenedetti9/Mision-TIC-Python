{
  "nbformat": 4,
  "nbformat_minor": 0,
  "metadata": {
    "kernelspec": {
      "display_name": "Python 3",
      "language": "python",
      "name": "python3"
    },
    "language_info": {
      "codemirror_mode": {
        "name": "ipython",
        "version": 3
      },
      "file_extension": ".py",
      "mimetype": "text/x-python",
      "name": "python",
      "nbconvert_exporter": "python",
      "pygments_lexer": "ipython3",
      "version": "3.8.3"
    },
    "colab": {
      "name": "Sesion_4_Condicionales_2.ipynb",
      "provenance": []
    }
  },
  "cells": [
    {
      "cell_type": "markdown",
      "metadata": {
        "id": "6MhTT1eKkVGI"
      },
      "source": [
        "# Fundamentos de Programación con Python\n",
        "\n",
        "Estos Notebooks fueron creados por profesores y diseñadores de contenido de la Universidad del Norte, en Barranquilla - Colombia.\n",
        "\n",
        "Todos estos materiales cuentan con una licencia <b>Creative Commons</b> de libre uso con atribución.\n",
        "\n",
        "## Condicionales Múltiples y Anidados\n",
        "\n",
        "### Si-Sino-Finsi\n",
        "Recuerda que los condicionales múltiples y anidados nos permiten evaluar múltiples casos. El condicional Si-Sino-Si-Finsi tiene la siguiente estructura:\n",
        "\n",
        "    Si (condición) Entonces\n",
        "        instrucción(es)\n",
        "    Sino Si\n",
        "        instrucción(es)\n",
        "    Fin Si\n",
        "\n",
        "En Python, esto se escribe un poco diferente y la estructura general depende de las tabulaciónes. Por ejemplo:"
      ]
    },
    {
      "cell_type": "code",
      "metadata": {
        "id": "OtspmQk6kVGQ",
        "outputId": "9670266d-e486-4bbb-f145-2315eb01f017"
      },
      "source": [
        "x = int(input(\"Por favor ingresa un número: \"))\n",
        "if x < 0:\n",
        "    print('X es Negativo')\n",
        "elif x > 0:\n",
        "    print('X es positivo')\n",
        "elif x == 0:\n",
        "    print('X es cero')"
      ],
      "execution_count": null,
      "outputs": [
        {
          "output_type": "stream",
          "text": [
            "Por favor ingresa un número:  7\n"
          ],
          "name": "stdin"
        },
        {
          "output_type": "stream",
          "text": [
            "X es positivo\n"
          ],
          "name": "stdout"
        }
      ]
    },
    {
      "cell_type": "markdown",
      "metadata": {
        "id": "8GimdZNAkVGS"
      },
      "source": [
        "\n",
        "\n"
      ]
    },
    {
      "cell_type": "markdown",
      "metadata": {
        "id": "28pMuGOAkVGS"
      },
      "source": [
        "### Actividad 1\n",
        "\n",
        "La luz de un semáforo nos indica las siguientes opciones: \n",
        "\n",
        "1.  Verde = Siga\n",
        "2.  Amarillo = Precaución\n",
        "3.  Rojo = Pare\n",
        "\n",
        "Escribamos el código para analizar esta situación utilizando el condicional Si-Sino-Si-Finsi."
      ]
    },
    {
      "cell_type": "code",
      "metadata": {
        "colab": {
          "base_uri": "https://localhost:8080/"
        },
        "id": "CUJ9BreGkVGS",
        "outputId": "1eaabe45-c47c-4764-98a1-2a1e8c435c99"
      },
      "source": [
        "semaforo = input(\"Ingrese el color de la luz del semaforo \")\r\n",
        "if semaforo == \"verde\":\r\n",
        "  print(\"Siga\")\r\n",
        "elif semaforo == \"amarillo\":\r\n",
        "  print(\"Precaucion\")\r\n",
        "elif semaforo == \"rojo\":\r\n",
        "  print(\"Pare\")    "
      ],
      "execution_count": 2,
      "outputs": [
        {
          "output_type": "stream",
          "text": [
            "Ingrese el color de la luz del semaforo rojo\n",
            "Pare\n"
          ],
          "name": "stdout"
        }
      ]
    },
    {
      "cell_type": "markdown",
      "metadata": {
        "id": "wCteasSnkVGT"
      },
      "source": [
        "### Actividad 2\n",
        "\n",
        "Ahora, usando el mismo código de la Actividad 1, vamos a utilizar condiciones anidadas. Si tenemos una variable booleana que nos indica si hay peaton o no (hayPeaton), las condiciones cambian así: \n",
        "\n",
        "1.  Verde -------- Si hay peaton - Pare, Sino - Siga\n",
        "2.  Amarillo ----------- Si hay peaton - Pare, Sino - Precaución\n",
        "3.  Rojo = Pare\n",
        "\n",
        "Escribamos el código para analizar esta situación."
      ]
    },
    {
      "cell_type": "code",
      "metadata": {
        "colab": {
          "base_uri": "https://localhost:8080/"
        },
        "id": "dVvNHdnkkVGT",
        "outputId": "2378c851-72fa-45cd-c82d-fa9f1e0d9546"
      },
      "source": [
        "semaforo = input(\"Ingrese el color de la luz del semaforo \")\r\n",
        "peaton = bool(input(\"Hay peaton?\"))\r\n",
        "if semaforo == \"verde\":\r\n",
        "  if peaton == True:\r\n",
        "    print(\"Pare\")\r\n",
        "  else:\r\n",
        "    print(\"Siga\")\r\n",
        "elif semaforo == \"amarillo\":\r\n",
        "  if peaton == True:\r\n",
        "    print(\"Pare\")\r\n",
        "  else:\r\n",
        "    print(\"Precaucion\")\r\n",
        "elif semaforo == \"rojo\":\r\n",
        "  print(\"Pare\")  \r\n",
        "\r\n"
      ],
      "execution_count": 2,
      "outputs": [
        {
          "output_type": "stream",
          "text": [
            "Ingrese el color de la luz del semaforo verde\n",
            "Hay peaton?True\n",
            "Pare\n"
          ],
          "name": "stdout"
        }
      ]
    },
    {
      "cell_type": "markdown",
      "metadata": {
        "id": "nAFSxRU1kVGT"
      },
      "source": [
        "### Actividad 3\n",
        "\n",
        "Vamos a pensar en un menú de opciones y la ejecución de la opción seleccionada. \n",
        "\n",
        "Para dos numeros a y b, el usuario va a seleccionar una opcion: 1 para sumar, 2 para multiplicar, 3 para restar (a-b) y 4 para dividir (a/b) y retornar el resultado de la operación indicada."
      ]
    },
    {
      "cell_type": "code",
      "metadata": {
        "colab": {
          "base_uri": "https://localhost:8080/"
        },
        "id": "VASwQ2fMkVGU",
        "outputId": "85e12038-055c-4d27-c544-366816930d4a"
      },
      "source": [
        "num1 = int(input(\"Ingrese un numero \"))\r\n",
        "num2 = int(input(\"Ingrese otro numero \"))\r\n",
        "\r\n",
        "print(\"1)Sumar\")\r\n",
        "print(\"2)Multiplicar\")\r\n",
        "print(\"3)Restar\")\r\n",
        "print(\"4)Dividir\")\r\n",
        "opcion = int(input(\"Seleccione una opcion \"))\r\n",
        "\r\n",
        "if opcion == 1:\r\n",
        "  result = num1 + num2\r\n",
        "elif opcion == 2:\r\n",
        "  result = num1 * num2\r\n",
        "elif opcion == 3:\r\n",
        "  result = num1 - num2\r\n",
        "elif opcion == 4:\r\n",
        "  result = num1//num2\r\n",
        "\r\n",
        "print(result)  \r\n"
      ],
      "execution_count": 5,
      "outputs": [
        {
          "output_type": "stream",
          "text": [
            "Ingrese un numero 6\n",
            "Ingrese otro numero 3\n",
            "1)Sumar\n",
            "2)Multiplicar\n",
            "3)Restar\n",
            "4)Dividir\n",
            "Seleccione una opcion 4\n",
            "2\n"
          ],
          "name": "stdout"
        }
      ]
    }
  ]
}