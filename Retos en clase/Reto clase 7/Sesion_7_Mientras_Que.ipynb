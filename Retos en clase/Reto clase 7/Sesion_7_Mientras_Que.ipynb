{
  "nbformat": 4,
  "nbformat_minor": 0,
  "metadata": {
    "kernelspec": {
      "display_name": "Python 3",
      "language": "python",
      "name": "python3"
    },
    "language_info": {
      "codemirror_mode": {
        "name": "ipython",
        "version": 3
      },
      "file_extension": ".py",
      "mimetype": "text/x-python",
      "name": "python",
      "nbconvert_exporter": "python",
      "pygments_lexer": "ipython3",
      "version": "3.8.3"
    },
    "colab": {
      "name": "Sesion_7_Mientras_Que.ipynb",
      "provenance": []
    }
  },
  "cells": [
    {
      "cell_type": "markdown",
      "metadata": {
        "id": "Ok_kjUOjO98r"
      },
      "source": [
        "# Fundamentos de Programación con Python\n",
        "\n",
        "Estos Notebooks fueron creados por profesores y diseñadores de contenido de la Universidad del Norte, en Barranquilla - Colombia.\n",
        "\n",
        "Todos estos materiales cuentan con una licencia <b>Creative Commons</b> de libre uso con atribución.\n",
        "\n",
        "## Mientras Que\n",
        "\n",
        "Como vimos anteriormente, en Python, el ciclo Mientras Que se maneja con \"while\". Empecemos con algo sencillo"
      ]
    },
    {
      "cell_type": "code",
      "metadata": {
        "id": "kkB6dAj0O98x",
        "outputId": "45874959-662d-45ad-fc52-2bb6ef7cbdf5"
      },
      "source": [
        "i = 1\n",
        "while i < 6:\n",
        "  print(i)\n",
        "  i += 1"
      ],
      "execution_count": null,
      "outputs": [
        {
          "output_type": "stream",
          "text": [
            "1\n",
            "2\n",
            "3\n",
            "4\n",
            "5\n"
          ],
          "name": "stdout"
        }
      ]
    },
    {
      "cell_type": "markdown",
      "metadata": {
        "id": "1x28M7EGO98z"
      },
      "source": [
        "1. ¿Por qué solo imprime hasta 5?\n",
        "2. ¿Qué quiere decir i+=1? ¿Cuáles son otras formas de escribir esto?\n",
        "3. ¿Qué ocurre si eliminamos la instrucción i=1 al inicio? ¿Por qué?\n"
      ]
    },
    {
      "cell_type": "markdown",
      "metadata": {
        "id": "YV71k4tUO98z"
      },
      "source": [
        "### Actividad 1\n",
        "\n",
        "Continuemos integrando los conceptos que hemos visto hasta el momento. Ahora vamos a elaborar un algoritmo que pida un número al usuario, e imprima todos los números pares desde 2 hasta el número. "
      ]
    },
    {
      "cell_type": "code",
      "metadata": {
        "colab": {
          "base_uri": "https://localhost:8080/"
        },
        "id": "BOVb5KjsO98z",
        "outputId": "3048d41d-e4ce-4461-8feb-d95ead3bfc56"
      },
      "source": [
        "numero = int(input(\"Ingrese numero \"))\r\n",
        "i = 0\r\n",
        "\r\n",
        "while i < numero:\r\n",
        "  print(i)\r\n",
        "  i+=2"
      ],
      "execution_count": 1,
      "outputs": [
        {
          "output_type": "stream",
          "text": [
            "Ingrese numero6\n",
            "0\n",
            "2\n",
            "4\n"
          ],
          "name": "stdout"
        }
      ]
    },
    {
      "cell_type": "markdown",
      "metadata": {
        "id": "5ac_GHhfO980"
      },
      "source": [
        "### Actividad 2\n",
        "\n",
        "Creemos un programa que dependa del usuario para deternerse. En este caso, le solicitamos números al usuario hasta que éste ingrese -1, y entonces el programa debe imprimir el promedio de todos los números ingresados hasta ese momento (sin contar con el -1)."
      ]
    },
    {
      "cell_type": "code",
      "metadata": {
        "colab": {
          "base_uri": "https://localhost:8080/"
        },
        "id": "CQeNzcubO980",
        "outputId": "9ff6511b-8fa3-4358-8cf5-0f7074518b12"
      },
      "source": [
        "numero = 0\r\n",
        "i = 0\r\n",
        "suma = 0\r\n",
        "while numero!=-1:\r\n",
        "  numero = int(input(\"Ingrese numero \"))\r\n",
        "  if numero != -1:\r\n",
        "    suma += numero\r\n",
        "    i +=1\r\n",
        "\r\n",
        "promedio = suma//i\r\n",
        "print(promedio) "
      ],
      "execution_count": 9,
      "outputs": [
        {
          "output_type": "stream",
          "text": [
            "Ingrese numero 2\n",
            "Ingrese numero 2\n",
            "Ingrese numero -1\n",
            "2\n"
          ],
          "name": "stdout"
        }
      ]
    },
    {
      "cell_type": "markdown",
      "metadata": {
        "id": "cdM3dFVwO980"
      },
      "source": [
        "### Actividad 3\n",
        "\n",
        "Vamos ahora a utlizar un ciclo para obtener el número de dígitos de un número ingresado por el usuario."
      ]
    },
    {
      "cell_type": "code",
      "metadata": {
        "colab": {
          "base_uri": "https://localhost:8080/"
        },
        "id": "Qx6UVbNDO981",
        "outputId": "3903c19f-4a36-449e-900c-266c33a4eeea"
      },
      "source": [
        " numero = (input(\"Ingrese numero \"))\r\n",
        "\r\n",
        " num = len(numero)\r\n",
        " print(num)"
      ],
      "execution_count": 10,
      "outputs": [
        {
          "output_type": "stream",
          "text": [
            "Ingrese numero 2333\n",
            "4\n"
          ],
          "name": "stdout"
        }
      ]
    }
  ]
}