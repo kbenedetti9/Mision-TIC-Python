{
  "nbformat": 4,
  "nbformat_minor": 0,
  "metadata": {
    "kernelspec": {
      "display_name": "Python 3",
      "language": "python",
      "name": "python3"
    },
    "language_info": {
      "codemirror_mode": {
        "name": "ipython",
        "version": 3
      },
      "file_extension": ".py",
      "mimetype": "text/x-python",
      "name": "python",
      "nbconvert_exporter": "python",
      "pygments_lexer": "ipython3",
      "version": "3.8.3"
    },
    "colab": {
      "name": "Sesion_15_Matrices_2 (1).ipynb",
      "provenance": []
    }
  },
  "cells": [
    {
      "cell_type": "markdown",
      "metadata": {
        "id": "BjEpjelP9I1z"
      },
      "source": [
        "# Fundamentos de Programación con Python\n",
        "\n",
        "Estos Notebooks fueron creados por profesores y diseñadores de contenido de la Universidad del Norte, en Barranquilla - Colombia.\n",
        "\n",
        "Todos estos materiales cuentan con una licencia <b>Creative Commons</b> de libre uso con atribución.\n",
        "\n",
        "## Matrices o vectores bidimensionales\n",
        "\n",
        "Vamos a continuar con el trabajo de matrices usando lista de listas. Como vimos en la sesión anterior, las operaciones de este tipo de matrices se pueden realizar con ciclos anidados.\n",
        "\n",
        "A continuación creamos una matriz de 5x5 con números aleatorios entre 1 y 10."
      ]
    },
    {
      "cell_type": "code",
      "metadata": {
        "id": "AlPkd7yx9I11",
        "colab": {
          "base_uri": "https://localhost:8080/"
        },
        "outputId": "b94e2e59-0049-4ab5-d644-6ec6305e9148"
      },
      "source": [
        "import random\n",
        "\n",
        "miMatriz = []\n",
        "miLista = []\n",
        "\n",
        "for i in range(0,5):\n",
        "    for j in range(0,5):\n",
        "        x = random.randint(1,10)\n",
        "        miLista.append(x)\n",
        "    miMatriz.append(miLista)\n",
        "    miLista = []\n",
        "    \n",
        "print(miMatriz)"
      ],
      "execution_count": null,
      "outputs": [
        {
          "output_type": "stream",
          "text": [
            "[[6, 5, 8, 3, 3], [1, 3, 6, 3, 9], [5, 7, 6, 1, 4], [7, 8, 2, 9, 10], [9, 5, 5, 1, 1]]\n"
          ],
          "name": "stdout"
        }
      ]
    },
    {
      "cell_type": "markdown",
      "metadata": {
        "id": "9JkDNvSF9I2A"
      },
      "source": [
        "### Actividad 1\n",
        "\n",
        "Escribe una función actividad1(x) que imprima la diagonal principal de una matriz x. Asegúrate de validar si la matriz es cuadrada, sino devuelve un mensaje de error, \"La matriz no es cuadrada\""
      ]
    },
    {
      "cell_type": "code",
      "metadata": {
        "id": "Dhua69bb9I2B",
        "colab": {
          "base_uri": "https://localhost:8080/"
        },
        "outputId": "25a11c5f-d880-42f6-ed66-f077a1849ff1"
      },
      "source": [
        "def actividad1(x):\n",
        "  cont=0\n",
        "  if len(x) == len(x[0]):\n",
        "    for i in range(len(x)):\n",
        "      cont=i\n",
        "      print(x[i][cont])\n",
        "    cont=+1\n",
        "  else:\n",
        "    print(\"La matriz no es cuadrada\")  \n",
        "\n",
        "actividad1([[6, 5, 8, 3, 3], [1, 3, 6, 3, 9], [5, 7, 6, 1, 4], [7, 8, 2, 9, 10], [9, 5, 5, 1, 1]])   "
      ],
      "execution_count": null,
      "outputs": [
        {
          "output_type": "stream",
          "text": [
            "6\n",
            "3\n",
            "6\n",
            "9\n",
            "1\n"
          ],
          "name": "stdout"
        }
      ]
    },
    {
      "cell_type": "markdown",
      "metadata": {
        "id": "s-mTY_Ez9I2F"
      },
      "source": [
        "### Actividad 2\n",
        "\n",
        "Creemos ahora una función actividad2() que reciba los elementos de una matriz 3x3 e imprima: \n",
        "\n",
        "    - La primera fila\n",
        "    - La primera columna\n",
        "    - Accede al elemento en la fila 1, columna 1.\n",
        "\n",
        "Los valores son ingresados por filas [0][1], [0][2], [0][3], [1][0], etc"
      ]
    },
    {
      "cell_type": "code",
      "metadata": {
        "id": "C-qnVp-79I2G",
        "colab": {
          "base_uri": "https://localhost:8080/"
        },
        "outputId": "b39c9ae4-eb8c-41e3-fb68-941884a5e371"
      },
      "source": [
        "def actividad2(x):\n",
        "  print(x[0])\n",
        "  m=[]\n",
        "  for i in range(len(x)):\n",
        "    col=(x[i][0])\n",
        "    m.append(col)\n",
        "  print(m)\n",
        "  print(x[1][1])\n",
        "  \n",
        "actividad2([[6, 5, 8], [6, 3, 9], [5, 7, 4]])   "
      ],
      "execution_count": null,
      "outputs": [
        {
          "output_type": "stream",
          "text": [
            "[6, 5, 8]\n",
            "[6, 6, 5]\n",
            "3\n"
          ],
          "name": "stdout"
        }
      ]
    },
    {
      "cell_type": "markdown",
      "metadata": {
        "id": "mnqvBP0kS7eW"
      },
      "source": [
        "##Actividad 3\r\n",
        "Hacer un algoritmo que lea una matriz cuadrada y calcule la suma de cada fila y cada columna."
      ]
    },
    {
      "cell_type": "code",
      "metadata": {
        "id": "CWXOQ0U6YT8g",
        "colab": {
          "base_uri": "https://localhost:8080/"
        },
        "outputId": "4f9d1377-6954-4a8f-942c-bec5aed616a3"
      },
      "source": [
        "y = [[9, 9, 8, 2, 5], [4, 2, 6, 3, 5], [3, 7, 5, 6, 8], [8, 9, 6, 2, 10], [5, 10, 5, 10, 1]]\n",
        "\n",
        "def sumas(x):\n",
        "  total = 0\n",
        "  lista = []\n",
        "  if len(x)==len(x[0]):\n",
        "    for i in range(len(x)):\n",
        "      for j in range(len(x[0])):\n",
        "        total = total + x[i][j]\n",
        "        print(\"{0:3}\".format(x[i][j]),end=\" \")\n",
        "      print(\"= {0}\".format(total))\n",
        "      total = 0\n",
        "      print()\n",
        "    for i in range(len(x[i])):\n",
        "      for j in range(len(x)):\n",
        "        total = total + x[j][i]\n",
        "      print(total, end=\" \")\n",
        "      total = 0\n",
        "  else:\n",
        "    print(\"Error\")\n",
        "  return \n",
        "\n",
        "sumas(y)"
      ],
      "execution_count": null,
      "outputs": [
        {
          "output_type": "stream",
          "text": [
            "[9, 9, 8, 2, 5]=33\n",
            "\n",
            "[4, 2, 6, 3, 5]=20\n",
            "\n",
            "[3, 7, 5, 6, 8]=29\n",
            "\n",
            "[8, 9, 6, 2, 10]=35\n",
            "\n",
            "[5, 10, 5, 10, 1]=31\n",
            "\n",
            "29 37 30 23 29 "
          ],
          "name": "stdout"
        }
      ]
    }
  ]
}