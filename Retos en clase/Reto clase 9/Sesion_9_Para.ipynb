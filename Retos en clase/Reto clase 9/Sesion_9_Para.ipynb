{
  "nbformat": 4,
  "nbformat_minor": 0,
  "metadata": {
    "kernelspec": {
      "display_name": "Python 3",
      "language": "python",
      "name": "python3"
    },
    "language_info": {
      "codemirror_mode": {
        "name": "ipython",
        "version": 3
      },
      "file_extension": ".py",
      "mimetype": "text/x-python",
      "name": "python",
      "nbconvert_exporter": "python",
      "pygments_lexer": "ipython3",
      "version": "3.8.3"
    },
    "colab": {
      "name": "Sesion_9_Para (2).ipynb",
      "provenance": []
    }
  },
  "cells": [
    {
      "cell_type": "markdown",
      "metadata": {
        "id": "oXYXS6P9YjDK"
      },
      "source": [
        "# Fundamentos de Programación con Python\n",
        "\n",
        "Estos Notebooks fueron creados por profesores y diseñadores de contenido de la Universidad del Norte, en Barranquilla - Colombia.\n",
        "\n",
        "Todos estos materiales cuentan con una licencia <b>Creative Commons</b> de libre uso con atribución.\n",
        "\n",
        "## Para\n",
        "\n",
        "El ciclo Para o For en Python nos ayuda a ejecutar dentro dentro de un rango determinado de iteraciones. Esto es particularmente útil cuando usamos estructuras de datos que son inherentement \"ordenadas\"; listas, colecciones, cadenas de caracteres, etc. \n",
        "\n",
        "En la semana uno exploramos el tipo de dato string (una cadena de caracteres). Los caracteres dentro de este tipo de dato en Python puede ser recorridos con la posicion en la que se encuentran dentro de la cadena. Veamos un ejemplo"
      ]
    },
    {
      "cell_type": "code",
      "metadata": {
        "id": "cP9_SkaoYjDj",
        "outputId": "f7c60a84-999b-4fa8-a6ef-c27cf779b145"
      },
      "source": [
        "palabra = \"Prueba\"\n",
        "longitud = len(palabra)\n",
        "\n",
        "print(\"Primer ciclo\")\n",
        "for i in range(longitud):\n",
        "    print(palabra[i])\n",
        "\n",
        "print(\"Segundo ciclo\")\n",
        "for x in \"Prueba\":\n",
        "    print(x)"
      ],
      "execution_count": null,
      "outputs": [
        {
          "output_type": "stream",
          "text": [
            "Primer ciclo\n",
            "P\n",
            "r\n",
            "u\n",
            "e\n",
            "b\n",
            "a\n",
            "Segundo ciclo\n",
            "P\n",
            "r\n",
            "u\n",
            "e\n",
            "b\n",
            "a\n"
          ],
          "name": "stdout"
        }
      ]
    },
    {
      "cell_type": "markdown",
      "metadata": {
        "id": "PNXvKI_PYjDr"
      },
      "source": [
        "El segundo ciclo funciona en Python de esta forma porque un string es considerado un objeto iterable (que puede recorrerse).\n",
        "\n",
        "\n",
        "Vamos a modificar este algoritmo para conocer la longitud de la palabra y validar la ubicación de cada valor dentro de la cadena."
      ]
    },
    {
      "cell_type": "code",
      "metadata": {
        "id": "Cec1L6O1YjDt",
        "outputId": "87fd8b37-59de-4e13-8b3d-c411cda65c20"
      },
      "source": [
        "palabra = \"Prueba\"\n",
        "longitud = len(palabra)\n",
        "\n",
        "print(\"Longitud\", longitud)\n",
        "\n",
        "for i in range(longitud):\n",
        "    print(i,palabra[i])"
      ],
      "execution_count": null,
      "outputs": [
        {
          "output_type": "stream",
          "text": [
            "Longitud 6\n",
            "0 P\n",
            "1 r\n",
            "2 u\n",
            "3 e\n",
            "4 b\n",
            "5 a\n"
          ],
          "name": "stdout"
        }
      ]
    },
    {
      "cell_type": "markdown",
      "metadata": {
        "id": "C98wUTWeYjDv"
      },
      "source": [
        "Si la longitud es 6, por qué la última letra está en la posición 5? Qué implicaciones tiene esto?\n",
        "\n",
        "Esta condición aplica igualmente para las listas, estructura que veremos más adelante.\n",
        "\n",
        "### Actividad 1\n",
        "\n",
        "Vamos a realizar un algoritmo que nos calcule la serie de Fibonacci.La serie o secuencia de Fibonacci comienza con los números 0 y 1 y 1, y a partir de allí es posible calcular el siguiente valor como la suma de los dos valores anteriores. Por ejemplo, 1+1=2, 1+2=3, 2+3=5, etc.\n",
        "\n",
        "Así, los primeros números de la secuencia son: 0, 1, 1, 2, 3, 5, 8, 13, 21, 34, ...\n",
        "\n",
        "Creemos un programa que a partir de un número N ingresado, imprima los primeros N números de la serie de Fibonacci."
      ]
    },
    {
      "cell_type": "code",
      "metadata": {
        "colab": {
          "base_uri": "https://localhost:8080/"
        },
        "id": "xI-gBqS5YjDx",
        "outputId": "1aceb6c4-45a0-46e8-c235-a402478585a8"
      },
      "source": [
        "numero = int(input(\"Ingrese una numero \"))\r\n",
        "primero = 0\r\n",
        "segundo = 1\r\n",
        "suma = 0\r\n",
        "\r\n",
        "for i in range(numero):\r\n",
        "  if i == 0:\r\n",
        "    print(primero)\r\n",
        "  else:\r\n",
        "    suma = primero + segundo\r\n",
        "    print(suma)\r\n",
        "  primero = segundo\r\n",
        "  segundo = suma\r\n"
      ],
      "execution_count": 2,
      "outputs": [
        {
          "output_type": "stream",
          "text": [
            "Ingrese una numero 7\n",
            "0\n",
            "1\n",
            "1\n",
            "2\n",
            "3\n",
            "5\n",
            "8\n"
          ],
          "name": "stdout"
        }
      ]
    },
    {
      "cell_type": "markdown",
      "metadata": {
        "id": "5kuOIV-IYjDy"
      },
      "source": [
        "### Actividad 2\n",
        "\n",
        "La opción break y continue también se pueden utilizar con el ciclo For. \n",
        "\n",
        "Creemos un algoritmo usando break que reciba una palabra e imprima el número de letras que tiene y las letras hasta que, o bien termine la palabra o encuentre la letra a. "
      ]
    },
    {
      "cell_type": "code",
      "metadata": {
        "colab": {
          "base_uri": "https://localhost:8080/"
        },
        "id": "O94IBkttYjD0",
        "outputId": "61d32a2d-4a20-4f28-d204-20602146eac2"
      },
      "source": [
        "   palabra = input(\"Ingrese una palabra \")\r\n",
        "   numero = len(palabra)\r\n",
        "   print(\"La palabra tiene {} letras\".format(numero))\r\n",
        "   for i in palabra:\r\n",
        "     if i == 'a':\r\n",
        "       break\r\n",
        "     print(i)  \r\n"
      ],
      "execution_count": 3,
      "outputs": [
        {
          "output_type": "stream",
          "text": [
            "Ingrese una palabra repollo\n",
            "La palabra tiene 7 letras\n",
            "r\n",
            "e\n",
            "p\n",
            "o\n",
            "l\n",
            "l\n",
            "o\n"
          ],
          "name": "stdout"
        }
      ]
    },
    {
      "cell_type": "markdown",
      "metadata": {
        "id": "SnpjuE2HYjD1"
      },
      "source": [
        "### Actividad 3\n",
        "\n",
        "Ahora, realicemos una actividad con números. Vamos a realizar un algoritmo que lea 10 números e imprima cuantos son positivos, cuantos negativos y cuantos neutros(0)."
      ]
    },
    {
      "cell_type": "code",
      "metadata": {
        "colab": {
          "base_uri": "https://localhost:8080/"
        },
        "id": "SAZrOuk1bCuW",
        "outputId": "8418e1ac-f8e1-4013-9e55-0d048ad95fa9"
      },
      "source": [
        "i = 0\r\n",
        "positivo = 0\r\n",
        "negativo = 0\r\n",
        "neutro = 0\r\n",
        "for i in range(10):\r\n",
        "  numero = int(input(\"Ingrese un numero: \"))\r\n",
        "  if numero > 0:\r\n",
        "    positivo+=1\r\n",
        "  elif numero < 0:\r\n",
        "    negativo+=1\r\n",
        "  else:\r\n",
        "    neutro+=1\r\n",
        "\r\n",
        "print(\"El total de numeros positivos es de: {}\".format(positivo))   \r\n",
        "print(\"El total de numeros negativos es de: {}\".format(negativo))  \r\n",
        "print(\"El total de numeros neutros es de: {}\".format(neutro))     \r\n"
      ],
      "execution_count": 5,
      "outputs": [
        {
          "output_type": "stream",
          "text": [
            "Ingrese un numero: 1\n",
            "Ingrese un numero: 2\n",
            "Ingrese un numero: 3\n",
            "Ingrese un numero: 4\n",
            "Ingrese un numero: 5\n",
            "Ingrese un numero: 6\n",
            "Ingrese un numero: 7\n",
            "Ingrese un numero: 0\n",
            "Ingrese un numero: -2\n",
            "Ingrese un numero: -4\n",
            "El total de numeros positivos es de: 7\n",
            "El total de numeros negativos es de: 2\n",
            "El total de numeros neutros es de: 1\n"
          ],
          "name": "stdout"
        }
      ]
    }
  ]
}