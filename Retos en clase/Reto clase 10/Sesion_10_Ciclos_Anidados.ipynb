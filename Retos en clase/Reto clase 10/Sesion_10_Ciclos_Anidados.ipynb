{
  "nbformat": 4,
  "nbformat_minor": 0,
  "metadata": {
    "kernelspec": {
      "display_name": "Python 3",
      "language": "python",
      "name": "python3"
    },
    "language_info": {
      "codemirror_mode": {
        "name": "ipython",
        "version": 3
      },
      "file_extension": ".py",
      "mimetype": "text/x-python",
      "name": "python",
      "nbconvert_exporter": "python",
      "pygments_lexer": "ipython3",
      "version": "3.8.3"
    },
    "colab": {
      "name": "Sesion_10_Ciclos_Anidados (1).ipynb",
      "provenance": []
    }
  },
  "cells": [
    {
      "cell_type": "markdown",
      "metadata": {
        "id": "P42RfhEsKGxY"
      },
      "source": [
        "# Fundamentos de Programación con Python\n",
        "\n",
        "Estos Notebooks fueron creados por profesores y diseñadores de contenido de la Universidad del Norte, en Barranquilla - Colombia.\n",
        "\n",
        "Todos estos materiales cuentan con una licencia <b>Creative Commons</b> de libre uso con atribución.\n",
        "\n",
        "## Ciclos Anidados\n",
        "\n",
        "Como vimos anteriormente podemos tener cualquiera de los ciclos presentados embebidos entre ellos. Recordemos el algoritmo de la sesión 7 para pedir números al usuario hasta que este ingrese -1."
      ]
    },
    {
      "cell_type": "code",
      "metadata": {
        "id": "yuKMhEG7KGxb",
        "outputId": "cb97e78d-2f70-4474-83b7-89966cf9f729"
      },
      "source": [
        "numero = int(input(\"Ingrese un numero\"))\n",
        "\n",
        "while numero != -1:\n",
        "    numero = int(input(\"Ingrese un numero\")) "
      ],
      "execution_count": null,
      "outputs": [
        {
          "output_type": "stream",
          "text": [
            "Ingrese un numero 2\n",
            "Ingrese un numero 3\n",
            "Ingrese un numero 4\n",
            "Ingrese un numero -1\n"
          ],
          "name": "stdin"
        }
      ]
    },
    {
      "cell_type": "markdown",
      "metadata": {
        "id": "AKfCm_iAKGxk"
      },
      "source": [
        "Ahora vamos a modificar este código para que retorne el factorial de cada número ingresado usando un ciclo Para (For)."
      ]
    },
    {
      "cell_type": "code",
      "metadata": {
        "id": "ydNivCvpKGxl",
        "outputId": "1165f0cb-6f63-41c0-89be-17d39322d4a6"
      },
      "source": [
        "numero = int(input(\"Ingrese un numero\"))\n",
        "factorial = 1\n",
        "\n",
        "while numero != -1:   \n",
        "    for i in range(1,numero+1):\n",
        "        factorial = factorial * i\n",
        "    print(factorial)\n",
        "    \n",
        "    numero = int(input(\"Ingrese un numero\")) \n",
        "    factorial = 1\n",
        "        "
      ],
      "execution_count": null,
      "outputs": [
        {
          "output_type": "stream",
          "text": [
            "Ingrese un numero 3\n"
          ],
          "name": "stdin"
        },
        {
          "output_type": "stream",
          "text": [
            "6\n"
          ],
          "name": "stdout"
        },
        {
          "output_type": "stream",
          "text": [
            "Ingrese un numero 4\n"
          ],
          "name": "stdin"
        },
        {
          "output_type": "stream",
          "text": [
            "24\n"
          ],
          "name": "stdout"
        },
        {
          "output_type": "stream",
          "text": [
            "Ingrese un numero 5\n"
          ],
          "name": "stdin"
        },
        {
          "output_type": "stream",
          "text": [
            "120\n"
          ],
          "name": "stdout"
        },
        {
          "output_type": "stream",
          "text": [
            "Ingrese un numero -1\n"
          ],
          "name": "stdin"
        }
      ]
    },
    {
      "cell_type": "markdown",
      "metadata": {
        "id": "URrwNGbtKGx4"
      },
      "source": [
        "1. Por qué empezamos la variable factorial en 1?\n",
        "2. En este ciclo pasamos dos valores a range. Por qué crees que lo hacemos? Qué pasa si sólo pasamos el límite final?\n",
        "3. Al trabajar con ciclos, especialmente anidados, es muy importante reiniciar las variables. Qué pasa si no incluimos la última frase que vuelve factorial = 1?\n",
        "\n",
        "### Actividad 1\n",
        "\n",
        "Vamos a generar un programa que imprima la lista de los N primeros números primos, donde N es el dato de entrada."
      ]
    },
    {
      "cell_type": "code",
      "metadata": {
        "id": "p41e4VzxKGx8",
        "colab": {
          "base_uri": "https://localhost:8080/"
        },
        "outputId": "1b9ab397-14f4-41d1-b80e-402fceaad27e"
      },
      "source": [
        "n = int(input(\"Ingrese un numero: \"))\n",
        "for i in range(1,n+1):\n",
        "  cont= 0\n",
        "  for j in range(1,i+1):\n",
        "    if i%j == 0:\n",
        "      cont+=1\n",
        "  if cont == 2:\n",
        "    print(i)\n",
        "\n"
      ],
      "execution_count": 5,
      "outputs": [
        {
          "output_type": "stream",
          "text": [
            "Ingrese un numero: 7\n",
            "2\n",
            "3\n",
            "5\n",
            "7\n"
          ],
          "name": "stdout"
        }
      ]
    },
    {
      "cell_type": "markdown",
      "metadata": {
        "id": "Jp1qrpabKGyH"
      },
      "source": [
        "### Actividad 2\n",
        "\n",
        "Implementa un algoritmo que reciba números ingresados por el usuario (hasta que este ingrese 0) y una potencia Y y calcule la potencia de cada número elevado a Y usando un ciclo de multiplicación."
      ]
    },
    {
      "cell_type": "code",
      "metadata": {
        "id": "w6dHNDACKGyI",
        "colab": {
          "base_uri": "https://localhost:8080/"
        },
        "outputId": "48a1f7ad-e1ee-47f3-ade7-1bec79ffd308"
      },
      "source": [
        "num = 1\n",
        "potencia = int(input(\"Ingrese una potencia: \"))\n",
        "while num != 0:\n",
        "  result = 1\n",
        "  num = int(input(\"Ingrese un numero: \"))\n",
        "  for i in range(potencia):\n",
        "    result = result * num\n",
        "  print(result)"
      ],
      "execution_count": 13,
      "outputs": [
        {
          "output_type": "stream",
          "text": [
            "Ingrese una potencia: 3\n",
            "Ingrese un numero: 5\n",
            "125\n",
            "Ingrese un numero: 2\n",
            "8\n",
            "Ingrese un numero: 4\n",
            "64\n",
            "Ingrese un numero: 0\n",
            "0\n"
          ],
          "name": "stdout"
        }
      ]
    },
    {
      "cell_type": "markdown",
      "metadata": {
        "id": "yrfw1fx7KGyZ"
      },
      "source": [
        "### Actividad 3\n",
        " \n",
        "Ahora vamos a realizar un programa que imprima todas las combinaciones de los números del 1 al 5. Es decir\n",
        "1, 1\n",
        "1, 2\n",
        "1, 3\n",
        "1, 4\n",
        "1, 5\n",
        "2, 1\n",
        "2, 2\n",
        "2, 3\n",
        "etc...."
      ]
    },
    {
      "cell_type": "code",
      "metadata": {
        "id": "JV0sxPcJKmPR",
        "colab": {
          "base_uri": "https://localhost:8080/",
          "height": 451
        },
        "outputId": "75897b01-d4a5-44f2-e080-334072ae5f64"
      },
      "source": [
        "for i in range(1,6):\n",
        "  for j in range(1,6):\n",
        "    print(\"{0}{1}\".format(i,j))"
      ],
      "execution_count": null,
      "outputs": [
        {
          "output_type": "stream",
          "text": [
            "11\n",
            "12\n",
            "13\n",
            "14\n",
            "15\n",
            "21\n",
            "22\n",
            "23\n",
            "24\n",
            "25\n",
            "31\n",
            "32\n",
            "33\n",
            "34\n",
            "35\n",
            "41\n",
            "42\n",
            "43\n",
            "44\n",
            "45\n",
            "51\n",
            "52\n",
            "53\n",
            "54\n",
            "55\n"
          ],
          "name": "stdout"
        }
      ]
    }
  ]
}