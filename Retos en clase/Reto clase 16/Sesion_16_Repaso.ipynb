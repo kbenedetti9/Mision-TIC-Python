{
  "nbformat": 4,
  "nbformat_minor": 0,
  "metadata": {
    "kernelspec": {
      "display_name": "Python 3",
      "language": "python",
      "name": "python3"
    },
    "language_info": {
      "codemirror_mode": {
        "name": "ipython",
        "version": 3
      },
      "file_extension": ".py",
      "mimetype": "text/x-python",
      "name": "python",
      "nbconvert_exporter": "python",
      "pygments_lexer": "ipython3",
      "version": "3.8.3"
    },
    "colab": {
      "name": "Sesion_16_Repaso (1).ipynb",
      "provenance": []
    }
  },
  "cells": [
    {
      "cell_type": "markdown",
      "metadata": {
        "id": "lfHtl3AtH6Mq"
      },
      "source": [
        "# Fundamentos de Programación con Python\n",
        "\n",
        "Estos Notebooks fueron creados por profesores y diseñadores de contenido de la Universidad del Norte, en Barranquilla - Colombia.\n",
        "\n",
        "Todos estos materiales cuentan con una licencia <b>Creative Commons</b> de libre uso con atribución.\n",
        "\n",
        "## Matrices o vectores bidimensionales\n",
        "\n",
        "Vamos a utilizar esta sesión para repasar los conceptos vistos antes de comenzar a trabajar con el ciclo de desarrollo y aprender otras funciones interesantes en Python. \n",
        "\n",
        "La función string.split(), por ejemplo, toma una cadena de caracteres (string) y la pasa a una lista. Por defecto el separador es cada espacio en blanco, pero se puede seleccionar cualquier separador.\n",
        "Veamos un ejemplo:"
      ]
    },
    {
      "cell_type": "code",
      "metadata": {
        "id": "kUFdY3f5H6Mr",
        "outputId": "a0758c82-e2f9-4bc1-eb5f-ec7b18d7f5c7"
      },
      "source": [
        "def actividad(frase):\n",
        "    lista = frase.split()\n",
        "    print(lista)\n",
        "\n",
        "actividad(\"Esta es una prueba para pasar a una lista\")"
      ],
      "execution_count": null,
      "outputs": [
        {
          "output_type": "stream",
          "text": [
            "['Esta', 'es', 'una', 'prueba', 'para', 'pasar', 'a', 'una', 'lista']\n"
          ],
          "name": "stdout"
        }
      ]
    },
    {
      "cell_type": "markdown",
      "metadata": {
        "id": "MwBvbfGQH6M0"
      },
      "source": [
        "### Actividad 1\n",
        "\n",
        "Escribe una función actividad1(x, n) que reciba una frase x y un numero entero n e imprima una lista con las palabras cuya longitud sea mayor a n de entrada."
      ]
    },
    {
      "cell_type": "code",
      "metadata": {
        "id": "E7e6_qDUH6M1",
        "colab": {
          "base_uri": "https://localhost:8080/",
          "height": 52
        },
        "outputId": "ac9bc39b-8950-4026-9324-6f91d7927bab"
      },
      "source": [
        "def actividad1(x,n):\n",
        "  listaN=[]\n",
        "  lista = x.split(' ')\n",
        "  print(lista)\n",
        "  for i in lista:\n",
        "    if len(i)>n:\n",
        "      listaN.append(i)\n",
        "  print(listaN)    \n",
        "\n",
        "actividad1(\"Esta es una prueba para pasar a una lista\",3) "
      ],
      "execution_count": null,
      "outputs": [
        {
          "output_type": "stream",
          "text": [
            "['Esta', 'es', 'una', 'prueba', 'para', 'pasar', 'a', 'una', 'lista']\n",
            "['Esta', 'prueba', 'para', 'pasar', 'lista']\n"
          ],
          "name": "stdout"
        }
      ]
    },
    {
      "cell_type": "markdown",
      "metadata": {
        "id": "UWMKw5buH6M9"
      },
      "source": [
        "### Actividad 2\n",
        "\n",
        "Creemos ahora una función crearMatriz() que genere una matriz de M * N con números aleatorios entre 0 y 9 y la retorne. \n",
        "\n",
        "Creemos también una función calcularPromedio(T) que dada una matriz T, genere un promedio de todos sus elementos y lo retorne.\n",
        "\n",
        "Finalmente una función actividad2() que llame a crearMatriz, pase esa matriz a calcularPromedio(T) y que genere una  matriz que tenga el  valor  1  en  aquellas posiciones donde el valor sea mayor o igual al promedio en T y cero (0) donde el valor de la posición en T sea menor que el promedio.  \n",
        "\n",
        "Imprimir ambas matrices."
      ]
    },
    {
      "cell_type": "code",
      "metadata": {
        "id": "0iCCK1qbH6M-",
        "colab": {
          "base_uri": "https://localhost:8080/"
        },
        "outputId": "35c36834-4f42-4fa1-dfba-9b3f969e5412"
      },
      "source": [
        "import random\n",
        "def crearMatriz():\n",
        "  n = int(input(\"Ingrese un numero para las filas: \"))\n",
        "  m = int(input(\"Ingrese un numero para las columnas: \")) \n",
        "  matriz = []\n",
        "  for i in range(n):\n",
        "    lista =[]\n",
        "    for j in range(m):\n",
        "      num = random.randint(0,9)\n",
        "      lista.append(num)\n",
        "    matriz.append(lista)  \n",
        "  return matriz\n",
        "\n",
        "def calcularPromedio(t):\n",
        "  cantidad = len(t) * len(t[0])\n",
        "  suma=0\n",
        "  for i in range(len(t)):\n",
        "    for j in range(len(t[0])):\n",
        "      suma+=t[i][j]\n",
        "  promedio = suma/cantidad\n",
        "  return promedio\n",
        "\n",
        "def actividad2():\n",
        "  matriz = crearMatriz()\n",
        "  print(matriz)\n",
        "  promedio = calcularPromedio(matriz)\n",
        "  print(\"El promedio es de: {0}\".format(promedio))\n",
        "  nuevaM=[]\n",
        "  for i in range(len(matriz)):\n",
        "    m=[]\n",
        "    for j in range(len(matriz[0])):\n",
        "      if promedio <= matriz[i][j]:\n",
        "        m.append(1)\n",
        "      else:\n",
        "        m.append(0)\n",
        "    nuevaM.append(m)      \n",
        "  print(nuevaM)\n",
        "\n",
        "actividad2()  "
      ],
      "execution_count": 1,
      "outputs": [
        {
          "output_type": "stream",
          "text": [
            "Ingrese un numero para las filas: 3\n",
            "Ingrese un numero para las columnas: 3\n",
            "[[9, 6, 1], [0, 0, 6], [1, 6, 1]]\n",
            "El promedio es de: 3.3333333333333335\n",
            "[[1, 1, 0], [0, 0, 1], [0, 1, 0]]\n"
          ],
          "name": "stdout"
        }
      ]
    }
  ]
}