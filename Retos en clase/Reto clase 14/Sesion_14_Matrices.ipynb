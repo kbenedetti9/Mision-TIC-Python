{
  "nbformat": 4,
  "nbformat_minor": 0,
  "metadata": {
    "kernelspec": {
      "display_name": "Python 3",
      "language": "python",
      "name": "python3"
    },
    "language_info": {
      "codemirror_mode": {
        "name": "ipython",
        "version": 3
      },
      "file_extension": ".py",
      "mimetype": "text/x-python",
      "name": "python",
      "nbconvert_exporter": "python",
      "pygments_lexer": "ipython3",
      "version": "3.8.3"
    },
    "colab": {
      "name": "Sesion_14_Matrices (2).ipynb",
      "provenance": []
    }
  },
  "cells": [
    {
      "cell_type": "markdown",
      "metadata": {
        "id": "5CC4iuQ84VzR"
      },
      "source": [
        "# Fundamentos de Programación con Python\n",
        "\n",
        "Estos Notebooks fueron creados por profesores y diseñadores de contenido de la Universidad del Norte, en Barranquilla - Colombia.\n",
        "\n",
        "Todos estos materiales cuentan con una licencia <b>Creative Commons</b> de libre uso con atribución.\n",
        "\n",
        "## Matrices o vectores bidimensionales\n",
        "\n",
        "En Python podemos trabajar los arreglos bidimensionales como listas de listas, es decir, cada elemento de la lista es una lista. \n",
        "\n",
        "***Nota*** Existe una librería en Python que maneja tanto vectores como matrices llamada numpy. Esta librería está por fuera del alcance de este curso pero puedes investigarla.\n",
        "\n",
        "Veamos un ejemplo:"
      ]
    },
    {
      "cell_type": "code",
      "metadata": {
        "id": "K8dUTssP4VzU",
        "outputId": "5d014e9a-8fff-44bf-aaea-0a8219a173fd"
      },
      "source": [
        "a = [[1, 2, 3, 4, 5],\n",
        "     [6, 7, 8, 9, 0]]\n",
        "\n",
        "print(a)"
      ],
      "execution_count": null,
      "outputs": [
        {
          "output_type": "stream",
          "text": [
            "[[1, 2, 3, 4, 5], [6, 7, 8, 9, 0]]\n"
          ],
          "name": "stdout"
        }
      ]
    },
    {
      "cell_type": "markdown",
      "metadata": {
        "id": "jyQ4JfRr4Vza"
      },
      "source": [
        "O podemos recorrer todos los elementos e imprimir como una matriz"
      ]
    },
    {
      "cell_type": "code",
      "metadata": {
        "id": "r4pfrQjJ4Vzc",
        "outputId": "fae12dc4-24c9-4d67-e761-e941da545581"
      },
      "source": [
        "for i in range(len(a)):\n",
        "    for j in range(len(a[i])):\n",
        "        print(a[i][j], end=' ')\n",
        "    print()"
      ],
      "execution_count": null,
      "outputs": [
        {
          "output_type": "stream",
          "text": [
            "1 2 3 4 5 \n",
            "6 7 8 9 0 \n"
          ],
          "name": "stdout"
        }
      ]
    },
    {
      "cell_type": "markdown",
      "metadata": {
        "id": "KNESPR9K4Vzh"
      },
      "source": [
        "### Actividad 1\n",
        "Vamos a escribir un funcion matriz que llene una matriz de 5 filas y 10 columnas con números enteros aleatorios, imprima los valores máximo y mínimo y sus posiciones dentro de la matriz."
      ]
    },
    {
      "cell_type": "code",
      "metadata": {
        "id": "bgmQMEyC4Vzi"
      },
      "source": [
        "# def matriz():\n",
        "#   m=[]\n",
        "#   for i in range(5):\n",
        "#     m.append([])\n",
        "#     for j in range(10):\n",
        "#       m[i].append(random.randint(0,9))\n",
        "#       print(m[i][j], end=' ')  \n",
        "#     print()"
      ],
      "execution_count": 1,
      "outputs": []
    },
    {
      "cell_type": "code",
      "metadata": {
        "id": "q1n9hZGmD6yC",
        "colab": {
          "base_uri": "https://localhost:8080/"
        },
        "outputId": "025398a6-cae4-461a-e547-97e09ca26b02"
      },
      "source": [
        "import random\n",
        "\n",
        "def mayor(ma):\n",
        "  may=0\n",
        "  fila=0\n",
        "  columna=0\n",
        "  for i in range(len(ma)):\n",
        "    for j in range(len(ma[0])):\n",
        "      if ma[i][j]>may:\n",
        "        may=ma[i][j]\n",
        "        fila = i\n",
        "        columna = j\n",
        "\n",
        "  return may,fila,columna\n",
        "\n",
        "def menor(ma):\n",
        "  men=99999999999\n",
        "  for i in range(len(ma)):\n",
        "    for j in range(len(ma[i])):\n",
        "      if ma[i][j]<men:\n",
        "        men=ma[i][j]\n",
        "        fila = i\n",
        "        columna = j\n",
        "  return men,fila,columna\n",
        "\n",
        "def matriz(f,c):\n",
        "  m=[]\n",
        "  for i in range(f):\n",
        "    m.append([])\n",
        "    for j in range(c):\n",
        "      m[i].append(random.randint(0,9))\n",
        "      print(m[i][j],end=' ')\n",
        "    print()\n",
        "  men,fme,cme = menor(m)\n",
        "  may,fma,cma = mayor(m)\n",
        "  print('El número mayor es {0} y su posición es [{1}][{2}]'.format(may,fma,cma))\n",
        "  print('El número menor es {0} y su posición es [{1}][{2}]'.format(men,fme,cme))\n",
        "\n",
        "matriz(5,10)"
      ],
      "execution_count": 3,
      "outputs": [
        {
          "output_type": "stream",
          "text": [
            "2 2 4 8 4 1 5 7 7 9 \n",
            "9 3 1 1 1 7 9 0 1 3 \n",
            "3 5 6 2 1 3 7 8 7 9 \n",
            "2 4 8 8 7 7 1 7 9 4 \n",
            "6 8 4 8 4 6 2 2 2 2 \n",
            "El número mayor es 9 y su posición es [0][9]\n",
            "El número menor es 0 y su posición es [1][7]\n"
          ],
          "name": "stdout"
        }
      ]
    },
    {
      "cell_type": "markdown",
      "metadata": {
        "id": "Vb2k7faU4Vzo"
      },
      "source": [
        "### Actividad 2\n",
        "\n",
        "El producto escalar de un número real, x , y una matriz A es la matriz xA. Cada elemento de la matriz xA es x veces su elemento correspondiente en A.\n",
        "\n",
        "Diseñemos una funcion escalar(matriz, escalar) que dada matriz[n][m] y un escalar, imprima el producto escalar de la matriz."
      ]
    },
    {
      "cell_type": "code",
      "metadata": {
        "id": "9hLtWvsb4Vzp",
        "colab": {
          "base_uri": "https://localhost:8080/"
        },
        "outputId": "f5cd1fb3-16c3-4d1f-f5d2-7c33cd336834"
      },
      "source": [
        "def actividad2(matriz,escalar):\n",
        "  for i in range(len(matriz)):\n",
        "    for j in range(len(matriz[0])):\n",
        "      print('{:3}'.format(matriz[i][j]*escalar), end=' ')\n",
        "    print()\n",
        "\n",
        "actividad2([[1,2,3,4],[5,6,7,8]],4)"
      ],
      "execution_count": 5,
      "outputs": [
        {
          "output_type": "stream",
          "text": [
            "  4   8  12  16 \n",
            " 20  24  28  32 \n"
          ],
          "name": "stdout"
        }
      ]
    },
    {
      "cell_type": "markdown",
      "metadata": {
        "id": "sUsT4ebAIpRg"
      },
      "source": [
        "### Actividad 3\r\n",
        "\r\n",
        "Realice un ciclo infinito que pida al usuario los datos de una persona: Nombre y código que seran almacenados en una matríz.\r\n",
        "El programa acabará al momento de ingresar -1 como nombre, mostrando la matríz con sus datos sin tener en cuenta -1."
      ]
    },
    {
      "cell_type": "code",
      "metadata": {
        "id": "OxBktycNqvvm",
        "colab": {
          "base_uri": "https://localhost:8080/"
        },
        "outputId": "f4939490-3149-4f38-f54b-a3ff85402549"
      },
      "source": [
        "def reto():\n",
        "  matriz = []\n",
        "  while True:\n",
        "    m=[]\n",
        "    nom = input('Digite nombre:  ')\n",
        "    if nom!='-1':\n",
        "      cod = input('Digite código: ')\n",
        "      m.append(nom)\n",
        "      m.append(cod)\n",
        "      matriz.append(m)\n",
        "    else:\n",
        "      break\n",
        "\n",
        "  print(matriz)\n",
        "\n",
        "reto()"
      ],
      "execution_count": 6,
      "outputs": [
        {
          "output_type": "stream",
          "text": [
            "Digite nombre:  Juan\n",
            "Digite código: 01\n",
            "Digite nombre:  Karen\n",
            "Digite código: 02\n",
            "Digite nombre:  -1\n",
            "[['Juan', '01'], ['Karen', '02']]\n"
          ],
          "name": "stdout"
        }
      ]
    }
  ]
}