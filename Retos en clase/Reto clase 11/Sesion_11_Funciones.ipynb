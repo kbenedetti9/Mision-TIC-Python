{
  "nbformat": 4,
  "nbformat_minor": 0,
  "metadata": {
    "kernelspec": {
      "display_name": "Python 3",
      "language": "python",
      "name": "python3"
    },
    "language_info": {
      "codemirror_mode": {
        "name": "ipython",
        "version": 3
      },
      "file_extension": ".py",
      "mimetype": "text/x-python",
      "name": "python",
      "nbconvert_exporter": "python",
      "pygments_lexer": "ipython3",
      "version": "3.8.3"
    },
    "colab": {
      "name": "Sesion_11_Funciones (1).ipynb",
      "provenance": []
    }
  },
  "cells": [
    {
      "cell_type": "markdown",
      "metadata": {
        "id": "bKCsX7W4VNFv"
      },
      "source": [
        "# Fundamentos de Programación con Python\n",
        "\n",
        "Estos Notebooks fueron creados por profesores y diseñadores de contenido de la Universidad del Norte, en Barranquilla - Colombia.\n",
        "\n",
        "Todos estos materiales cuentan con una licencia <b>Creative Commons</b> de libre uso con atribución.\n",
        "\n",
        "## Funciones\n",
        "\n",
        "La verdad es que hemos venido trabajando con funciones desde el comienzo en los retos diarios. En Python, definimos una función con la siguiente estructura\n",
        "\n",
        "    def funcion(parametros):\n",
        "\n",
        "\n",
        "Veamos una implementación simple. "
      ]
    },
    {
      "cell_type": "code",
      "metadata": {
        "id": "62TOce8LVNF1",
        "outputId": "b615bacf-8e6a-4b64-a7aa-2d5f9bcbc49b"
      },
      "source": [
        "def suma(a,b):\n",
        "    \n",
        "    print(a+b)\n",
        "\n",
        "suma(3,4)"
      ],
      "execution_count": null,
      "outputs": [
        {
          "output_type": "stream",
          "text": [
            "7\n"
          ],
          "name": "stdout"
        }
      ]
    },
    {
      "cell_type": "markdown",
      "metadata": {
        "id": "0yVQxrsiVNGM"
      },
      "source": [
        "Como vemos aquí la función suma recibe dos parámetros a y b. E imprime la suma de estos valores. \n",
        "\n",
        "Recordemos que en el caso particular de Python, el tipo de dato de las variables no necesita ser pre-definido y puede cambiar durante la ejecución. Por ejemplo, usando la misma definición, si enviamos los valores como cadenas de caracteres esta sería la ejecución."
      ]
    },
    {
      "cell_type": "code",
      "metadata": {
        "id": "DXb3eP97VNGQ",
        "outputId": "2e3f4bd6-33a2-4794-bbdf-34ff1f611d91"
      },
      "source": [
        "def suma(a,b):\n",
        "    \n",
        "    print(a+b)\n",
        "\n",
        "suma(\"3\",\"4\")"
      ],
      "execution_count": null,
      "outputs": [
        {
          "output_type": "stream",
          "text": [
            "34\n"
          ],
          "name": "stdout"
        }
      ]
    },
    {
      "cell_type": "markdown",
      "metadata": {
        "id": "8msemzr5VNGi"
      },
      "source": [
        "En este caso, la función suma(a,b) no retorna ningún valor. \n",
        "\n",
        "Vamos ahora a realizar definir dos funciones; una función que retorne un valor al final de la ejecución."
      ]
    },
    {
      "cell_type": "code",
      "metadata": {
        "id": "ElaCZ1FvVNGm",
        "outputId": "523036da-2990-4864-e1e7-742ac0c52657"
      },
      "source": [
        "def suma(a,b):   \n",
        "    return a+b\n",
        "\n",
        "def main():\n",
        "    resultado = suma(3,4)\n",
        "    print(resultado)\n",
        "\n",
        "main()"
      ],
      "execution_count": null,
      "outputs": [
        {
          "output_type": "stream",
          "text": [
            "7\n"
          ],
          "name": "stdout"
        }
      ]
    },
    {
      "cell_type": "markdown",
      "metadata": {
        "id": "U2EqjKGtVNGz"
      },
      "source": [
        "Como vemos, en Python tampoco es necesario definir previo a la ejecución el tipo de dato a retornar. En este caso, la variable resultado recibe el valor retornado por suma(a,b).\n",
        "\n",
        "1. En qué casos puede ser más indicado retornar un valor específico?\n",
        "2. En qué casos no sería necesario retornar ningún valor?\n",
        "\n",
        "Analicemos adicionalmente el llamado entre funciones y la ejecución del programa.\n",
        "1. Por qué se ejecuta main primero?\n",
        "\n",
        "\n",
        "Como ya hemos venido trabajando con funciones, vamos a utilizar este espacio para reforzar los conocimientos adquiridos hasta el momento  mientras incluímos el uso de funciones.\n",
        "\n",
        "### Actividad 1\n",
        "Usted es cajero en un supermercado de su ciudad. Su trabajo es imprimir cada uno de los productos de su cliente, su precio y calcular el total a pagar.\n",
        "\n",
        "Diseñe un programa con las siguiente características:\n",
        "1. Que tenga una función principal que solicite al usuario nombre y precio de cada producto.\n",
        "2. Una variable total que vaya sumando el precio de los artículos\n",
        "3. Una función adicional llamada imprimaProducto(nombre, precio) que reciba el nombre y el precio de cada producto y los imprima.\n",
        "4. Que después de cada artículo le pregunte al usuario si tiene o no más artículos a ingresar. Si no tiene, el programa debe detenerse."
      ]
    },
    {
      "cell_type": "code",
      "metadata": {
        "id": "X5YB8bcCVNG1",
        "colab": {
          "base_uri": "https://localhost:8080/"
        },
        "outputId": "a2a3e691-aa7d-4a63-ba26-83e1e0eca862"
      },
      "source": [
        "def calcularTotal(precio,total):\n",
        "  total +=precio\n",
        "  return total\n",
        "\n",
        "def imprimirProducto(nombre,precio):\n",
        "  print(\"El producto es: {0} y su precio es de: {1}\".format(nombre,precio))  \n",
        "\n",
        "def main():\n",
        "  total = 0\n",
        "  while True:\n",
        "    \n",
        "    nombre = input(\"Ingrese nombre del producto\")\n",
        "    precio = float(input(\"Ingrese precio del producto\"))\n",
        "    total = calcularTotal(precio, total)\n",
        "    imprimirProducto(nombre,precio)\n",
        "    repetir = int(input(\"Desea ingresar otro producto si[1] no[2]\"))\n",
        "    if repetir == 2:\n",
        "      break\n",
        "    \n",
        "  print(\"El total de los precios es de: {0}\".format(total))\n",
        "\n",
        "main()"
      ],
      "execution_count": 1,
      "outputs": [
        {
          "output_type": "stream",
          "text": [
            "Ingrese nombre del productoPan\n",
            "Ingrese precio del producto200\n",
            "El producto es: Pan y su precio es de: 200.0\n",
            "Desea ingresar otro producto si[1] no[2]1\n",
            "Ingrese nombre del productoLeche\n",
            "Ingrese precio del producto3500\n",
            "El producto es: Leche y su precio es de: 3500.0\n",
            "Desea ingresar otro producto si[1] no[2]2\n",
            "El total de los precios es de: 3700.0\n"
          ],
          "name": "stdout"
        }
      ]
    },
    {
      "cell_type": "markdown",
      "metadata": {
        "id": "Zohoc3dEVNHB"
      },
      "source": [
        "### Actividad 2\n",
        " \n",
        "Escribamos una función numAleatorio() que retorne un número aleatorio entre 100 y 130, excepto los números 110, 115, 120 y \n",
        "\n",
        "Adicionalmente, una función principal que imprima diez números aleatorios (retornados por la función numAleatorio()) alternando par, impar, comenzando por par."
      ]
    },
    {
      "cell_type": "code",
      "metadata": {
        "id": "dL4oDNCZVNHD",
        "colab": {
          "base_uri": "https://localhost:8080/",
          "height": 191
        },
        "outputId": "942391be-efd0-4f72-8544-33025307eedd"
      },
      "source": [
        "def numAleatorio():\n",
        "  num = 110\n",
        "  while num == 110 or num == 115 or num == 120:\n",
        "    num = random.randint(100,130)\n",
        "  return num\n",
        "\n",
        "def main():\n",
        "  for i in range(10):\n",
        "    numero = numAleatorio()\n",
        "    print(numero)\n",
        "\n",
        "main()"
      ],
      "execution_count": null,
      "outputs": [
        {
          "output_type": "stream",
          "text": [
            "128\n",
            "125\n",
            "121\n",
            "104\n",
            "106\n",
            "103\n",
            "105\n",
            "101\n",
            "129\n",
            "111\n"
          ],
          "name": "stdout"
        }
      ]
    }
  ]
}