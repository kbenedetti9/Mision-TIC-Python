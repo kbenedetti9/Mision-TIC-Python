{
  "nbformat": 4,
  "nbformat_minor": 0,
  "metadata": {
    "kernelspec": {
      "display_name": "Python 3",
      "language": "python",
      "name": "python3"
    },
    "language_info": {
      "codemirror_mode": {
        "name": "ipython",
        "version": 3
      },
      "file_extension": ".py",
      "mimetype": "text/x-python",
      "name": "python",
      "nbconvert_exporter": "python",
      "pygments_lexer": "ipython3",
      "version": "3.7.8"
    },
    "colab": {
      "name": "Sesion 1_Variables.ipynb",
      "provenance": []
    }
  },
  "cells": [
    {
      "cell_type": "markdown",
      "metadata": {
        "id": "UKnGGMJMKHOn"
      },
      "source": [
        "# Fundamentos de Programación con Python\n",
        "\n",
        "Estos Notebooks fueron creados por profesores y diseñadores de contenido de la Universidad del Norte, en Barranquilla - Colombia.\n",
        "\n",
        "Todos estos materiales cuentan con una licencia <b>Creative Commons</b> de libre uso con atribución.\n",
        "\n",
        "<b>Bienvenido!</b> \n",
        "\n",
        "## Python y Jupyter\n",
        "\n",
        "Python es un lenguaje de programación usado en ciencias e ingeniería. Es ideal para aprender programación porque su sintáxis es simple y es un lenguaje muy popular en este momento. \n",
        "\n",
        "Python permite crear programas que resuelvan problemas automatizando tareas repetitivas, procesando grandes cantidades de datos, resolviendo complejos cálculos matemáticos, o simplemente, creando visualizaciones de fenónenos complejos.\n",
        "\n",
        "Jupyter es un editor de texto y código que nos permite integrar éstos dos elementos en una página web que llamaremos NoteBook (NB), para poder integrar explicaciones, ejecutar código, e incluir ejercicios prácticos. Cada que encuentres el texto In [ ] a la izquierda de una caja de texto, quiere decir que puedes ejecutar esta instrucción.\n",
        "\n",
        "## Instrucciones, Variables, y Operaciones Matemáticas\n",
        "Comencemos por lo más sencillo... Recuerda que programar significa darle instrucciones al computador para que haga lo que yo quiera. Podemos comenzar por pedirle que imprima algo para nosotros:\n"
      ]
    },
    {
      "cell_type": "code",
      "metadata": {
        "colab": {
          "base_uri": "https://localhost:8080/"
        },
        "id": "tGbLpyykKHO1",
        "outputId": "3a462d74-71ef-468e-dc6f-f6aa65f7f78e"
      },
      "source": [
        "print(\"Mi primera instrucción al computador!\")"
      ],
      "execution_count": 1,
      "outputs": [
        {
          "output_type": "stream",
          "text": [
            "Mi primera instrucción al computador!\n"
          ],
          "name": "stdout"
        }
      ]
    },
    {
      "cell_type": "markdown",
      "metadata": {
        "id": "pec84na-KHO4"
      },
      "source": [
        "### Actividad 1\n",
        "\n",
        "Lo que hicimos fue simplemente decirle al computador que imprimiera (print) el texto que estaba entre las comillas. Ahora tu puedes hacer que imprima algo diferente. Escribe tu instrucción en el siguiente espacio y luego lo podrás ejecutar.\n"
      ]
    },
    {
      "cell_type": "code",
      "metadata": {
        "colab": {
          "base_uri": "https://localhost:8080/"
        },
        "id": "0uXQlWwsKHO5",
        "outputId": "b12d9736-3d59-476f-eca2-34bfcb1383c7"
      },
      "source": [
        "print(\"Imprimiendo en Python!\")"
      ],
      "execution_count": 2,
      "outputs": [
        {
          "output_type": "stream",
          "text": [
            "Imprimiendo en Python!\n"
          ],
          "name": "stdout"
        }
      ]
    },
    {
      "cell_type": "markdown",
      "metadata": {
        "id": "0NnX6SX5KHO5"
      },
      "source": [
        "### Actividad 2\n",
        "Recordemos nuestro primer algoritmo\n",
        "\n",
        "Ahora vamos a modificar este algoritmo para escribirlo en Python. \n",
        "\n",
        "Inicio\n",
        "\n",
        "    valor_uno ⇐ 5\n",
        "    valor_dos ⇐ 8\n",
        "\n",
        "    total =  valor_uno + valor_dos\n",
        "Fin"
      ]
    },
    {
      "cell_type": "code",
      "metadata": {
        "id": "F66HXhG7KHO6"
      },
      "source": [
        "valor_uno = 5\n",
        "valor_dos = 8\n",
        "total = valor_uno + valor_dos"
      ],
      "execution_count": 3,
      "outputs": []
    },
    {
      "cell_type": "markdown",
      "metadata": {
        "id": "AbPG2fLnKHO6"
      },
      "source": [
        "Por ahora no vemos nada, pero qué tal si imprimirmos la variable total? Ingresa el código para imprimir la variable total"
      ]
    },
    {
      "cell_type": "code",
      "metadata": {
        "colab": {
          "base_uri": "https://localhost:8080/"
        },
        "id": "QWLx2Y9ZKHO7",
        "outputId": "0a098034-e9d2-440e-b517-b2546f8a44ab"
      },
      "source": [
        "print(total)"
      ],
      "execution_count": 4,
      "outputs": [
        {
          "output_type": "stream",
          "text": [
            "13\n"
          ],
          "name": "stdout"
        }
      ]
    },
    {
      "cell_type": "markdown",
      "metadata": {
        "id": "Eo0lU9NQKHO8"
      },
      "source": [
        "Y si quisieramos leer el valor? Python cuenta con la función input() para leer valores. Vamos a ver como usarla"
      ]
    },
    {
      "cell_type": "code",
      "metadata": {
        "colab": {
          "base_uri": "https://localhost:8080/"
        },
        "id": "DLRuNTPMKHO8",
        "outputId": "e1a45332-651f-4dc9-c264-c52b051900d2"
      },
      "source": [
        "valor_uno = float(input())\n",
        "valor_dos = float(input())\n",
        "print(valor_uno + valor_dos)"
      ],
      "execution_count": 5,
      "outputs": [
        {
          "output_type": "stream",
          "text": [
            "2\n",
            "4\n",
            "6.0\n"
          ],
          "name": "stdout"
        }
      ]
    },
    {
      "cell_type": "markdown",
      "metadata": {
        "id": "NNXERtArKHO9"
      },
      "source": [
        "En el código anterior además de la función input() usamos float() para determinar el tipo de dato. Por defecto, Python leería la variable como una cadena de caracteres, pero para poder realizar operaciones aritméticas, necesitamos identificarlas como número. En este caso, float quiere decir flotante. Más adelante analizaremos otros tipos de datos.\n",
        "\n",
        "Ahora revisemos los operadores aritméticos y su sintáxis en Python\n",
        "\n",
        "<table>\n",
        "<thead><tr>\n",
        "<th>Operador</th>\n",
        "<th>Nombre</th>\n",
        "<th>Descripción</th>\n",
        "</tr>\n",
        "</thead>\n",
        "<tbody>\n",
        "<tr>\n",
        "<td><code>a + b</code></td>\n",
        "<td>Suma</td>\n",
        "<td>Suma de <code>a</code> y <code>b</code></td>\n",
        "</tr>\n",
        "<tr>\n",
        "<td><code>a - b</code></td>\n",
        "<td>Resta</td>\n",
        "<td>Diferencia entra <code>a</code> y <code>b</code></td>\n",
        "</tr>\n",
        "<tr>\n",
        "<td><code>a * b</code></td>\n",
        "<td>Multiplicación</td>\n",
        "<td>Multiplicación de <code>a</code> y <code>b</code></td>\n",
        "</tr>\n",
        "<tr>\n",
        "<td><code>a / b</code></td>\n",
        "<td>División real</td>\n",
        "<td>Resultado de <code>a</code> dividido <code>b</code></td>\n",
        "</tr>\n",
        "<tr>\n",
        "<td><code>a // b</code></td>\n",
        "<td>División con redondeo</td>\n",
        "<td>Resultado de <code>a</code> dividido b <code>b</code>, redondeo a número entero</td>\n",
        "</tr>\n",
        "<tr>\n",
        "<td><code>a % b</code></td>\n",
        "<td>Modulo</td>\n",
        "<td>Residuo de la división entre <code>a</code> y <code>b</code></td>\n",
        "</tr>\n",
        "<tr>\n",
        "<td><code>a ** b</code></td>\n",
        "<td>Potencia</td>\n",
        "<td><code>a</code> a la potencia de <code>b</code></td>\n",
        "</tr>\n",
        "<tr>\n",
        "<td><code>-a</code></td>\n",
        "<td>Negación</td>\n",
        "<td>Negativo de <code>a</code></td>\n",
        "</tr>\n",
        "</tbody></table>\n",
        "\n",
        "Observemos la diferencia entre división real y división con redondeo en Python."
      ]
    },
    {
      "cell_type": "code",
      "metadata": {
        "colab": {
          "base_uri": "https://localhost:8080/"
        },
        "id": "b_k_ry93KHO9",
        "outputId": "ce373515-37fd-43be-dc65-ebdf2f737190"
      },
      "source": [
        "print(6/2)\n",
        "print(5/2)"
      ],
      "execution_count": 6,
      "outputs": [
        {
          "output_type": "stream",
          "text": [
            "3.0\n",
            "2.5\n"
          ],
          "name": "stdout"
        }
      ]
    },
    {
      "cell_type": "code",
      "metadata": {
        "colab": {
          "base_uri": "https://localhost:8080/"
        },
        "id": "jkwN1lN6KHO-",
        "outputId": "575a84db-0266-42c1-8113-48ac1719493a"
      },
      "source": [
        "print(6//2)\n",
        "print(5//2)"
      ],
      "execution_count": 7,
      "outputs": [
        {
          "output_type": "stream",
          "text": [
            "3\n",
            "2\n"
          ],
          "name": "stdout"
        }
      ]
    },
    {
      "cell_type": "markdown",
      "metadata": {
        "id": "MQI3gaPfKHO-"
      },
      "source": [
        "### Actividad 3\n",
        "\n",
        "El área de un cuadrado puede calcularse como a^2. Modifica el código para calcular el área del cuadrado donde a = 4\n"
      ]
    },
    {
      "cell_type": "code",
      "metadata": {
        "colab": {
          "base_uri": "https://localhost:8080/"
        },
        "id": "3Nz-wjk0KHO_",
        "outputId": "78135f23-baaf-4ed0-fb4c-893d8ab5196e"
      },
      "source": [
        "import math\n",
        "\n",
        "a = 4 # Modificar con el valor dado\n",
        "\n",
        "area = math.pow(a, 2)# Crea una variable llamada area y usa la formula indicada para calcular el area del cuadrado\n",
        "\n",
        "print(area)\n"
      ],
      "execution_count": 9,
      "outputs": [
        {
          "output_type": "stream",
          "text": [
            "16.0\n"
          ],
          "name": "stdout"
        }
      ]
    }
  ]
}