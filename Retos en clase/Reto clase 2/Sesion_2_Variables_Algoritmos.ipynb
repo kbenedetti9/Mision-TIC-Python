{
  "nbformat": 4,
  "nbformat_minor": 0,
  "metadata": {
    "kernelspec": {
      "display_name": "Python 3",
      "language": "python",
      "name": "python3"
    },
    "language_info": {
      "codemirror_mode": {
        "name": "ipython",
        "version": 3
      },
      "file_extension": ".py",
      "mimetype": "text/x-python",
      "name": "python",
      "nbconvert_exporter": "python",
      "pygments_lexer": "ipython3",
      "version": "3.7.8"
    },
    "colab": {
      "name": "Sesion 2_Variables_Algoritmos.ipynb",
      "provenance": [],
      "collapsed_sections": []
    }
  },
  "cells": [
    {
      "cell_type": "markdown",
      "metadata": {
        "id": "g7NApIvHTXh4"
      },
      "source": [
        "# Fundamentos de Programación con Python\n",
        "\n",
        "Estos Notebooks fueron creados por profesores y diseñadores de contenido de la Universidad del Norte, en Barranquilla - Colombia.\n",
        "\n",
        "Todos estos materiales cuentan con una licencia <b>Creative Commons</b> de libre uso con atribución.\n",
        "\n",
        "## Estructuras algorítmicas\n",
        "\n",
        "Vamos a trabajar en modificar el algoritmo y pasarlo a Python.\n",
        "\n",
        "Recordemos\n",
        "\n",
        "Inicio\n",
        "\n",
        "    a ⇐ 2 \n",
        "    b ⇐ 3\n",
        "    c ⇐ 4\n",
        "    x1 ⇐ (-b + ((b^2)-(4*a*c))^(½))/2\n",
        "    x2 ⇐ (-b - ((b^2)-(4*a*c))^(½))/2\n",
        "    escribir x1\n",
        "    escribir x2\n",
        "Fin\n",
        "\n",
        "\n",
        "Además de las operaciones matemáticas básicas que vimos en la sesión anterior, también podemos importar otras operaciones o funciones desde una \"librería\" (aunque la traducción correcta de library es biblioteca, en español se ha vuelto más común hablar de librerías).\n",
        "\n",
        "Por ejemplo, podemos usar la función raíz cuadrada sqrt importando math."
      ]
    },
    {
      "cell_type": "code",
      "metadata": {
        "id": "unT0Tg7ATXiE"
      },
      "source": [
        "import math\n",
        "#math.sqrt(x)\n"
      ],
      "execution_count": null,
      "outputs": []
    },
    {
      "cell_type": "markdown",
      "metadata": {
        "id": "Z_waK4J-TXiG"
      },
      "source": [
        "Puedes ver todas las funciones que tiene esta librería y cómo se usan, con los siguientes comandos:"
      ]
    },
    {
      "cell_type": "code",
      "metadata": {
        "id": "PXwmAnfbTXiG",
        "outputId": "a2066049-4589-48ff-9895-b058b72f80a7"
      },
      "source": [
        "#dir(math)           # Lista de funciones\n",
        "#help(math)          # Ayuda sobre la librería math\n",
        "help(math.sqrt)     # Ayuda sobre la función sqrt"
      ],
      "execution_count": null,
      "outputs": [
        {
          "output_type": "stream",
          "text": [
            "Help on built-in function sqrt in module math:\n",
            "\n",
            "sqrt(x, /)\n",
            "    Return the square root of x.\n",
            "\n"
          ],
          "name": "stdout"
        }
      ]
    },
    {
      "cell_type": "markdown",
      "metadata": {
        "id": "EB3jteVgTXiI"
      },
      "source": [
        "Volvamos al algoritmo entonces. En la prueba de escritorio, determinamos que (b^2)-(4*a*c) debe ser mayor a 0 para poder obtener la raiz cuadrada. Aquí vamos a modificar los valores para ejecutar el código. Mas adelante, con condicionales podremos evaluar los valores durante la ejecución e imprimir un mensaje en caso de error.                                                                                    "
      ]
    },
    {
      "cell_type": "code",
      "metadata": {
        "id": "jeFsEBiuTXiJ",
        "outputId": "0f932c32-8b4d-47ed-ba8b-bea381c90b44"
      },
      "source": [
        "import math\n",
        "a = 2\n",
        "b = 3\n",
        "c = 1\n",
        "x1 = (-b + math.sqrt((b**2)-(4*a*c)))/2*a\n",
        "x2 = (-b - math.sqrt((b**2)-(4*a*c)))/2*a\n",
        "print(x1)\n",
        "print(x2)"
      ],
      "execution_count": null,
      "outputs": [
        {
          "output_type": "stream",
          "text": [
            "-2.0\n",
            "-4.0\n"
          ],
          "name": "stdout"
        }
      ]
    },
    {
      "cell_type": "markdown",
      "metadata": {
        "id": "04XjfmSBTXiK"
      },
      "source": [
        "### Actividad 1\n",
        "\n",
        "Los tipos de datos son muy importantes en programación. Aunque Python no exige declarar un tipo de variable y permite cambiarlo (lo cual no ocurre en otros lenguajes de programación), cada variable si asume un tipo según el dato que tenga almacenado. Por ejemplo:\n"
      ]
    },
    {
      "cell_type": "code",
      "metadata": {
        "id": "M3e6Pq8tTXiL"
      },
      "source": [
        "a = 5     # Esto es un Entero (No tiene decimales)\n",
        "b = 5.3   # Esto es un flotante (Un número que puede tener comas decimals)\n",
        "c = '5'   # Esto es un texto, y por ende, no podemos hacer operaciones matemáticas con c"
      ],
      "execution_count": 1,
      "outputs": []
    },
    {
      "cell_type": "markdown",
      "metadata": {
        "id": "xT0Xw5EtTXiL"
      },
      "source": [
        "Usando la función type(), obten el tipo de dato de las variables a, b y c:"
      ]
    },
    {
      "cell_type": "code",
      "metadata": {
        "colab": {
          "base_uri": "https://localhost:8080/"
        },
        "id": "ml8yBezyTXiM",
        "outputId": "5e39cda0-fc2d-4ebb-fcee-01bef916ffbe"
      },
      "source": [
        "type(a)"
      ],
      "execution_count": 5,
      "outputs": [
        {
          "output_type": "execute_result",
          "data": {
            "text/plain": [
              "int"
            ]
          },
          "metadata": {
            "tags": []
          },
          "execution_count": 5
        }
      ]
    },
    {
      "cell_type": "markdown",
      "metadata": {
        "id": "uPQS1_-FTXiM"
      },
      "source": [
        "### Actividad 2\n",
        "\n",
        "Ahora, practiquemos nuevamente la estructura algorítmica y recordemos el uso de tipos de datos. \n",
        "\n",
        "Juan y Pedro acostumbran jugar un juego de adivinar un número. En el juego es permitido dar tres pistas p1 p2 p3. Después de muchos intentos Pedro descubre la fórmula con la que Juan crea el número con las pistas dadas, y es la siguiente:\n",
        "\n",
        "    p1 + p3 ∗ p2 − (p1 + p2 ∗ 5 + 1) / (p2 + p1/2) + p3\n",
        "\n",
        "Si la pista que da Juan es 2, 1 y 4, ¿cuál es el número que debería decir Pedro para ganar? Escribamos el código para recibir los valores y devolver el valor que Pedro debería decir.\n"
      ]
    },
    {
      "cell_type": "code",
      "metadata": {
        "colab": {
          "base_uri": "https://localhost:8080/"
        },
        "id": "WWWweKVGTXiN",
        "outputId": "b532ed08-9fb2-468d-90d5-89a47eb68ea4"
      },
      "source": [
        "p1 = int(input(\"Pista numero 1 \"))\r\n",
        "p2 = int(input(\"Pista numero 2 \"))\r\n",
        "p3 = int(input(\"Pista numero 3 \"))\r\n",
        "\r\n",
        "resultado = p1 + p3 * p2 - (p1 + p2 * 5 + 1) / (p2 + p1/2) + p3\r\n",
        "\r\n",
        "print(\"Pedro deberia decir el numero: {0}\".format(resultado))"
      ],
      "execution_count": 24,
      "outputs": [
        {
          "output_type": "stream",
          "text": [
            "Pista numero 1 2\n",
            "Pista numero 2 3\n",
            "Pista numero 3 4\n",
            "Pedro deberia decir el numero: 13.5\n"
          ],
          "name": "stdout"
        }
      ]
    }
  ]
}