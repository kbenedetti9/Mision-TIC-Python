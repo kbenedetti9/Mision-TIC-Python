{
  "nbformat": 4,
  "nbformat_minor": 0,
  "metadata": {
    "kernelspec": {
      "display_name": "Python 3",
      "language": "python",
      "name": "python3"
    },
    "language_info": {
      "codemirror_mode": {
        "name": "ipython",
        "version": 3
      },
      "file_extension": ".py",
      "mimetype": "text/x-python",
      "name": "python",
      "nbconvert_exporter": "python",
      "pygments_lexer": "ipython3",
      "version": "3.8.3"
    },
    "colab": {
      "name": "Sesion_13_Listas_2 (1).ipynb",
      "provenance": []
    }
  },
  "cells": [
    {
      "cell_type": "markdown",
      "metadata": {
        "id": "KGkuVh7Nq8Aw"
      },
      "source": [
        "# Fundamentos de Programación con Python\n",
        "\n",
        "Estos Notebooks fueron creados por profesores y diseñadores de contenido de la Universidad del Norte, en Barranquilla - Colombia.\n",
        "\n",
        "Todos estos materiales cuentan con una licencia <b>Creative Commons</b> de libre uso con atribución.\n",
        "\n",
        "## Funciones con listas\n",
        "\n",
        "En la sesión anterior trabajamos con append(x). Recordemos que esta función inserta el valor x al final de la lista. \n",
        "\n",
        "Pero también existe la función insert(pos, x) que nos permite insertar x en la posición pos. Veamos un ejemplo"
      ]
    },
    {
      "cell_type": "code",
      "metadata": {
        "id": "ljtBgJvmq8Ax",
        "outputId": "8600ba73-bade-4c0f-e75e-20802f513c4c"
      },
      "source": [
        "a = [1, 3, 2, 5, 2]\n",
        "a.insert(4,8)\n",
        "print(a)"
      ],
      "execution_count": null,
      "outputs": [
        {
          "output_type": "stream",
          "text": [
            "[1, 3, 2, 5, 8, 2]\n"
          ],
          "name": "stdout"
        }
      ]
    },
    {
      "cell_type": "markdown",
      "metadata": {
        "id": "xjZbm1e1q8A3"
      },
      "source": [
        "Como vemos, insertamos el numero 8 en la posición 4 de la lista y Python hace el desplazamiento de los elementos adicionales.\n",
        "\n",
        "La función contraria pop(i) remueve el elemento en la posición i de la lista. Recordemos como lo usamos"
      ]
    },
    {
      "cell_type": "code",
      "metadata": {
        "id": "QzR_RxoRq8A4",
        "outputId": "8ba1ce04-6648-44c6-e6f2-7a4ac5097e12"
      },
      "source": [
        "nombres = [\"María\", \"Juan\",\"Andrés\"]\n",
        "nombres.pop(1)\n",
        "\n",
        "print(nombres)"
      ],
      "execution_count": null,
      "outputs": [
        {
          "output_type": "stream",
          "text": [
            "['María', 'Andrés']\n"
          ],
          "name": "stdout"
        }
      ]
    },
    {
      "cell_type": "markdown",
      "metadata": {
        "id": "1E1DeIkZq8A9"
      },
      "source": [
        "### Actividad 1\n",
        " \n",
        "Vamos a crear una función compara(A,B) que lea dos vectores A y B que contienen los códigos de los estudiantes que cursan Matemáticas y Física respectivamente y retorne una lista con los estudiantes que estén cursando estén cursando las dos asignaturas.\n",
        "\n",
        "Finalmente vamos a crear una funcion actividad1(A,B) que llame a compara(A,B) e imprima el valor devuelto por la función."
      ]
    },
    {
      "cell_type": "code",
      "metadata": {
        "id": "kFS0QhpUq8A_",
        "colab": {
          "base_uri": "https://localhost:8080/",
          "height": 35
        },
        "outputId": "0ef11dcf-f2c2-43d1-cb5d-5f019a365bf4"
      },
      "source": [
        "def compara(a,b):\n",
        "  nueva = []\n",
        "  for i in a:\n",
        "    for j in b:\n",
        "      if i == j:\n",
        "        nueva.append(i)\n",
        "  return nueva\n",
        "\n",
        "def actividad1():\n",
        "  print(compara([20,30,50,14,25],[20,14,33,47,50]))\n",
        "\n",
        "actividad1()"
      ],
      "execution_count": null,
      "outputs": [
        {
          "output_type": "stream",
          "text": [
            "[20, 50, 14]\n"
          ],
          "name": "stdout"
        }
      ]
    },
    {
      "cell_type": "markdown",
      "metadata": {
        "id": "15v9CviVq8BE"
      },
      "source": [
        "### Actividad 2\n",
        "Escribamos un programa actividad2() que pida al usuario los valores enteros positivos de una lista que puede contener entre 5 y 1000 elementos. El usuario termina de ingresar los valores cuando ingresa -1.\n",
        "\n",
        "Si aún no ha ingresado 5 elementos, el programa debe retornar un error \"Error, se requieren mínimo 5 elementos\" y seguir solicitando más elementos. \n",
        "\n",
        "Si ha ingresado 1000 elementos y aún no ha ingresado -1, el programa imprime un mensaje \"Número máximo de elementos alcanzado\" y continua con el cálculo. \n",
        "\n",
        "A partir de la lista obtenida, crear una función menorPareja(lista), que será llamada desde actividad2(), que calcule cuáles dos de sus elementos son los más cercanos en valor y los imprima. Es decir, que el valor absoluto de su diferencia sea menor que el de cualquier otra pareja de números en la lista.  \n",
        "\n",
        "Por ejemplo, para la lista (4,6,1,90,56,4379,23) la pareja más cercana son 4 y 6, ya que ningún otro par de números tiene una resta cuyo valor absoluto sea menor a 2 (6-4=2)."
      ]
    },
    {
      "cell_type": "code",
      "metadata": {
        "id": "iS9hPKEAq8BF",
        "colab": {
          "base_uri": "https://localhost:8080/"
        },
        "outputId": "273f5615-1b84-4bdc-af33-b726d7f722c5"
      },
      "source": [
        "def menorPareja(lista):\n",
        "  i=0\n",
        "  j=1\n",
        "  menor_pareja=abs(lista[i]-lista[j])\n",
        "  posI=i\n",
        "  posJ=j\n",
        "  while i<len(lista):\n",
        "    while j<len(lista):\n",
        "      if abs(lista[i]-lista[j])<menor_pareja:\n",
        "        menor_pareja=abs(lista[i]-lista[j])\n",
        "        posI=i\n",
        "        posJ=j\n",
        "      j=j+1\n",
        "    i=i+1\n",
        "  print(\"Las menores parejas son \",lista[posI],\" y \",lista[posJ],\" con valor de \",menor_pareja)\n",
        "\n",
        "\n",
        "def actividad2():\n",
        "  valores=[]\n",
        "  valor = ''\n",
        "  num = 0\n",
        "  while valor!= -1 or num<5:\n",
        "\n",
        "    valor = int(input(\"Ingrese el valor a ingresar \"))\n",
        "    if valor != -1:\n",
        "      valores.append(valor)\n",
        "    if valor == -1 and num<5:\n",
        "      print(\"Error, se requieren mínimo 5 elementos\")\n",
        "    if num == 1000:\n",
        "      print(\"Número máximo de elementos alcanzado\") \n",
        "    num+=1\n",
        "  menorPareja(valores)  \n",
        "\n",
        "actividad2()"
      ],
      "execution_count": 3,
      "outputs": [
        {
          "output_type": "stream",
          "text": [
            "Ingrese el valor a ingresar 1\n",
            "Ingrese el valor a ingresar 4\n",
            "Ingrese el valor a ingresar 2\n",
            "Ingrese el valor a ingresar -1\n",
            "Error, se requieren mínimo 5 elementos\n",
            "Ingrese el valor a ingresar 7\n",
            "Ingrese el valor a ingresar 10\n",
            "Ingrese el valor a ingresar -1\n",
            "Las menores parejas son  1  y  2  con valor de  1\n"
          ],
          "name": "stdout"
        }
      ]
    }
  ]
}