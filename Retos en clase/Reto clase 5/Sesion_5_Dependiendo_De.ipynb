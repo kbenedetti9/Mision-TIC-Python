{
  "nbformat": 4,
  "nbformat_minor": 0,
  "metadata": {
    "kernelspec": {
      "display_name": "Python 3",
      "language": "python",
      "name": "python3"
    },
    "language_info": {
      "codemirror_mode": {
        "name": "ipython",
        "version": 3
      },
      "file_extension": ".py",
      "mimetype": "text/x-python",
      "name": "python",
      "nbconvert_exporter": "python",
      "pygments_lexer": "ipython3",
      "version": "3.8.3"
    },
    "colab": {
      "name": "Sesion_5_Dependiendo_De (2).ipynb",
      "provenance": []
    }
  },
  "cells": [
    {
      "cell_type": "markdown",
      "metadata": {
        "id": "sZ_08E-rc5QK"
      },
      "source": [
        "# Fundamentos de Programación con Python\n",
        "\n",
        "Estos Notebooks fueron creados por profesores y diseñadores de contenido de la Universidad del Norte, en Barranquilla - Colombia.\n",
        "\n",
        "Todos estos materiales cuentan con una licencia <b>Creative Commons</b> de libre uso con atribución.\n",
        "\n",
        "## Dependiendo De\n",
        "\n",
        "En Python no existe la estructura Dependiendo De como la vimos en pseudo-código. En otros lenguajes, como en Java, esta estructura se llama Switch-case, pero acá no fue definida dentro del lenguaje.\n",
        "\n",
        "Sin embargo, si quisiéramos tener algo que nos permita hacer lo mismo que la estructura Dependiendo De podemnos crear un diccionario de datos. En este caso, al lado izquierdo definimos la clave(con la que validamos los valores) y al derecho el valor a retornar por cada clave.\n",
        "\n",
        "Miremos un ejemplo con los días de la semana."
      ]
    },
    {
      "cell_type": "code",
      "metadata": {
        "id": "1BmT8yiKc5QQ",
        "outputId": "d6735568-681b-4524-bac8-2fd55dacd9d0"
      },
      "source": [
        "dia = {\n",
        "    1 : \"Lunes\",\n",
        "    2 : \"Martes\",\n",
        "    3 : \"Miercoles\",\n",
        "    4 : \"Jueves\",\n",
        "    5 : \"Viernes\",\n",
        "    6 : \"Sabado\",\n",
        "    7 : \"Domingo\"\n",
        "}\n",
        "\n",
        "dia.get(5)"
      ],
      "execution_count": null,
      "outputs": [
        {
          "output_type": "execute_result",
          "data": {
            "text/plain": [
              "'Viernes'"
            ]
          },
          "metadata": {
            "tags": []
          },
          "execution_count": 5
        }
      ]
    },
    {
      "cell_type": "markdown",
      "metadata": {
        "id": "4p-f45r7c5Ql"
      },
      "source": [
        "### Actividad 1\n",
        "\n",
        "Vamos a elaborar un algoritmo que permita ingresar un número entero (1 a 10), y muestre su equivalente en romano usando un diccionario como lo definimos anteriormente. "
      ]
    },
    {
      "cell_type": "code",
      "metadata": {
        "id": "u27FxEycc5Qp",
        "colab": {
          "base_uri": "https://localhost:8080/",
          "height": 52
        },
        "outputId": "4664fc03-a32e-4cce-8090-246c1a197ea7"
      },
      "source": [
        "numRomanos = {\r\n",
        "    1 : \"I\",\r\n",
        "    2 : \"II\",\r\n",
        "    3 : \"III\",\r\n",
        "    4 : \"IV\",\r\n",
        "    5 : \"V\",\r\n",
        "    6 : \"VI\",\r\n",
        "    7 : \"VII\",\r\n",
        "    8 : \"VIII\",\r\n",
        "    9 : \"IX\",\r\n",
        "    10 : \"X\" \r\n",
        "}\r\n",
        "\r\n",
        "numero = int(input(\"Ingresa un numero\"))\r\n",
        "\r\n",
        "numRomanos.get(numero)"
      ],
      "execution_count": 1,
      "outputs": [
        {
          "output_type": "stream",
          "text": [
            "Ingresa un numero6\n"
          ],
          "name": "stdout"
        },
        {
          "output_type": "execute_result",
          "data": {
            "application/vnd.google.colaboratory.intrinsic+json": {
              "type": "string"
            },
            "text/plain": [
              "'VI'"
            ]
          },
          "metadata": {
            "tags": []
          },
          "execution_count": 1
        }
      ]
    },
    {
      "cell_type": "markdown",
      "metadata": {
        "id": "k9G1xZfac5Q7"
      },
      "source": [
        "### Actividad 2\n",
        "\n",
        "Juan y María están haciendo un programa para jugar a los dados con las siguientes reglas:\n",
        "\n",
        "    Si sale 1, vuelven a lanzar.\n",
        "    Si sale 6, quedan empatados.\n",
        "    Si sale 2 ó 3 gana Juan.\n",
        "    Si sale 4 ó 5 gana María.\n",
        "\n",
        "Escribe el programa en Python utilizando el condicional Dependiendo De para escribir el mensaje según el resultado de lanzar el dado.\n",
        "\n",
        "Vamos a intentar obtener el número de forma aleatorio usando la función randint de la librería random."
      ]
    },
    {
      "cell_type": "code",
      "metadata": {
        "id": "z3DBQArcc5Q-",
        "colab": {
          "base_uri": "https://localhost:8080/",
          "height": 35
        },
        "outputId": "dea95004-1cc5-4c5a-8836-e774ed0bcc2a"
      },
      "source": [
        "import random\n",
        "\n",
        "numero = random.randint(1,6)\n",
        "\n",
        "puntuacion = {\n",
        "    1 : \"Vuelven a lanzar\",\n",
        "    2 : \"Gana Juan\",\n",
        "    3 : \"Gana Juan\",\n",
        "    4 : \"Gana Maria\",\n",
        "    5 : \"Gana Maria\",\n",
        "    6 : \"Quedan empatados\"\n",
        "}\n",
        "\n",
        "puntuacion.get(numero)"
      ],
      "execution_count": 3,
      "outputs": [
        {
          "output_type": "execute_result",
          "data": {
            "application/vnd.google.colaboratory.intrinsic+json": {
              "type": "string"
            },
            "text/plain": [
              "'Quedan empatados'"
            ]
          },
          "metadata": {
            "tags": []
          },
          "execution_count": 3
        }
      ]
    },
    {
      "cell_type": "markdown",
      "metadata": {
        "id": "lhJ2FRt1c5RK"
      },
      "source": [
        "### Actividad 3\n",
        "\n",
        "Ahora vamos a combinar los condicionales que hemos visto en el siguiente ejercicio (Si-Sino-Si-Finsi y DependiendoDe). \n",
        "\n",
        "Vamos a elaborar un algoritmo que solicite un número entero y muestre un mensaje indicando la vocal correspondiente, considerando que la vocal A es 1. Y adicionalmente imprima una palabra que comience por esa vocal.\n"
      ]
    },
    {
      "cell_type": "code",
      "metadata": {
        "id": "q_eWeg_xc5RM",
        "colab": {
          "base_uri": "https://localhost:8080/"
        },
        "outputId": "b78bf927-ae55-4170-b2c3-379d19e08325"
      },
      "source": [
        "vocales = {\r\n",
        "    1 : \"A\",\r\n",
        "    2 : \"E\",\r\n",
        "    3 : \"I\",\r\n",
        "    4 : \"O\",\r\n",
        "    5 : \"U\"\r\n",
        "}\r\n",
        "\r\n",
        "numero = int(input(\"Ingresa un numero \"))\r\n",
        "\r\n",
        "print(vocales.get(numero))\r\n",
        "\r\n",
        "if numero == 1:\r\n",
        "  print(\"Abeja\")\r\n",
        "elif numero == 2:\r\n",
        "  print(\"Elefante\")\r\n",
        "elif numero == 3:\r\n",
        "  print(\"Iglesia\")\r\n",
        "elif numero == 4:\r\n",
        "  print(\"Oso\")\r\n",
        "else:\r\n",
        "  print(\"Uva\")       \r\n",
        "\r\n"
      ],
      "execution_count": 7,
      "outputs": [
        {
          "output_type": "stream",
          "text": [
            "Ingresa un numero 3\n",
            "I\n",
            "Iglesia\n"
          ],
          "name": "stdout"
        }
      ]
    }
  ]
}